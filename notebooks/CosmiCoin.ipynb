{
 "cells": [
  {
   "cell_type": "code",
   "execution_count": 1,
   "metadata": {},
   "outputs": [
    {
     "data": {
      "application/javascript": [
       "/** Below because this notebook is pretty large */\n",
       "var rto = 200;\n",
       "console.log('NB: Increase require timeout to ' + rto + ' seconds');\n",
       "window.requirejs.config({waitSeconds: rto});\n"
      ],
      "text/plain": [
       "<IPython.core.display.Javascript object>"
      ]
     },
     "metadata": {},
     "output_type": "display_data"
    }
   ],
   "source": [
    "%%javascript\n",
    "/** Below because this notebook is pretty large */\n",
    "var rto = 200;\n",
    "console.log('NB: Increase require timeout to ' + rto + ' seconds');\n",
    "window.requirejs.config({waitSeconds: rto});"
   ]
  },
  {
   "cell_type": "markdown",
   "metadata": {},
   "source": [
    "## Importacion de Librerías y Configuración de Consola"
   ]
  },
  {
   "cell_type": "code",
   "execution_count": 8,
   "metadata": {},
   "outputs": [],
   "source": [
    "import time \n",
    "import os\n",
    "import janitor\n",
    "import pandas as pd\n",
    "import numpy as numpy\n",
    "from pandas_datareader import data as pdr\n",
    "from pathlib import Path\n",
    "\n",
    "\n",
    "# Antes de utilizar esta librería, descargarla. Ingresar en terminal: pip install yfinance --upgrade --no-cache-dir\n",
    "import yfinance as yf\n",
    "yf.pdr_override() # <== that's all it takes :-)"
   ]
  },
  {
   "cell_type": "code",
   "execution_count": 27,
   "metadata": {},
   "outputs": [],
   "source": [
    "# Especificamos el directorio base, retrocediendo una carpeta\n",
    "BASE = Path('..')\n",
    "# Y, a partir de allí, definimos las carpetas que debieran existir\n",
    "RAW = BASE/'raw'\n",
    "NOTEBOOKS = BASE/'notebooks'\n",
    "DATA = BASE/'data'\n",
    "REFERENCIAS = BASE/'referencias'\n",
    "PERFORMANCE = BASE/'performance'"
   ]
  },
  {
   "cell_type": "code",
   "execution_count": 33,
   "metadata": {},
   "outputs": [],
   "source": [
    "# Creamos todos los directorios que definimos previamente, si no existieran aún.\n",
    "path_list = [RAW, NOTEBOOKS, DATA, REFERENCIAS, PERFORMANCE]\n",
    "for path_i in path_list:\n",
    "    if not os.path.exists(path_i):\n",
    "        os.makedirs(path_i)"
   ]
  },
  {
   "cell_type": "code",
   "execution_count": 34,
   "metadata": {},
   "outputs": [],
   "source": [
    "#Tomo el tiempo al inicio de la ejecucion\n",
    "start_time=time.time()"
   ]
  },
  {
   "cell_type": "code",
   "execution_count": 35,
   "metadata": {},
   "outputs": [
    {
     "data": {
      "text/html": [
       "<style>.container { width:100% !important; }</style>"
      ],
      "text/plain": [
       "<IPython.core.display.HTML object>"
      ]
     },
     "metadata": {},
     "output_type": "display_data"
    }
   ],
   "source": [
    "#Seteamos para que no utilice notacion cientifica\n",
    "pd.options.display.float_format = '{:.9f}'.format\n",
    "#Seteo para que el máximo de columnas que muestra al levantar una base sean 500\n",
    "pd.set_option('display.max_columns',500)\n",
    "#Estos códigos hacen que la visualización de la consola abarque toda la pantalla (sin los recortes a los costados). Tambien hacen que al mostrar dataframes podamos ver todas las columnas que tiene.\n",
    "from IPython.core.display import display, HTML\n",
    "display(HTML(\"<style>.container { width:100% !important; }</style>\"))\n"
   ]
  },
  {
   "cell_type": "code",
   "execution_count": 36,
   "metadata": {},
   "outputs": [],
   "source": [
    "# Codigo para poder imprimir multiples outputs en una misma línea\n",
    "from IPython.core.interactiveshell import InteractiveShell\n",
    "InteractiveShell.ast_node_interactivity = \"all\""
   ]
  },
  {
   "cell_type": "code",
   "execution_count": 37,
   "metadata": {},
   "outputs": [],
   "source": [
    "# Definiremos el directorio en el que estamos trabajando. \n",
    "scripts=os.getcwd()  #Obtenemos la direccion actual\n",
    "os.chdir('..') # Nos vamos una carpeta atrás\n",
    "raiz=os.getcwd() # Esta direccion la guardaremos como \"raiz\" \n",
    "os.chdir(raiz+'\\\\raw') \n",
    "raw=os.getcwd()\n",
    "os.chdir(raiz+'\\\\raw')\n",
    "outputs=os.getcwd()"
   ]
  },
  {
   "cell_type": "markdown",
   "metadata": {},
   "source": [
    "# Importacion de Archivos"
   ]
  },
  {
   "cell_type": "markdown",
   "metadata": {},
   "source": [
    "## Ingresamos Fecha de Hoy"
   ]
  },
  {
   "cell_type": "code",
   "execution_count": 38,
   "metadata": {},
   "outputs": [],
   "source": [
    "from datetime import date\n",
    "today = date.today()\n",
    "Today_Date = str(today)"
   ]
  },
  {
   "cell_type": "markdown",
   "metadata": {},
   "source": [
    "## Informacion BCBA"
   ]
  },
  {
   "cell_type": "markdown",
   "metadata": {},
   "source": [
    "### Índices Merval"
   ]
  },
  {
   "cell_type": "code",
   "execution_count": 39,
   "metadata": {},
   "outputs": [
    {
     "name": "stdout",
     "output_type": "stream",
     "text": [
      "[*********************100%***********************]  1 of 1 completed\n"
     ]
    },
    {
     "data": {
      "text/html": [
       "<div>\n",
       "<style scoped>\n",
       "    .dataframe tbody tr th:only-of-type {\n",
       "        vertical-align: middle;\n",
       "    }\n",
       "\n",
       "    .dataframe tbody tr th {\n",
       "        vertical-align: top;\n",
       "    }\n",
       "\n",
       "    .dataframe thead th {\n",
       "        text-align: right;\n",
       "    }\n",
       "</style>\n",
       "<table border=\"1\" class=\"dataframe\">\n",
       "  <thead>\n",
       "    <tr style=\"text-align: right;\">\n",
       "      <th></th>\n",
       "      <th>Open</th>\n",
       "      <th>High</th>\n",
       "      <th>Low</th>\n",
       "      <th>Close</th>\n",
       "      <th>Adj Close</th>\n",
       "      <th>Volume</th>\n",
       "      <th>Instrumento</th>\n",
       "    </tr>\n",
       "    <tr>\n",
       "      <th>Date</th>\n",
       "      <th></th>\n",
       "      <th></th>\n",
       "      <th></th>\n",
       "      <th></th>\n",
       "      <th></th>\n",
       "      <th></th>\n",
       "      <th></th>\n",
       "    </tr>\n",
       "  </thead>\n",
       "  <tbody>\n",
       "    <tr>\n",
       "      <th>2000-01-03</th>\n",
       "      <td>550.280029297</td>\n",
       "      <td>559.950012207</td>\n",
       "      <td>550.280029297</td>\n",
       "      <td>551.830017090</td>\n",
       "      <td>551.830017090</td>\n",
       "      <td>0</td>\n",
       "      <td>Merval</td>\n",
       "    </tr>\n",
       "    <tr>\n",
       "      <th>2000-01-04</th>\n",
       "      <td>550.840026855</td>\n",
       "      <td>550.840026855</td>\n",
       "      <td>522.969970703</td>\n",
       "      <td>522.969970703</td>\n",
       "      <td>522.969970703</td>\n",
       "      <td>0</td>\n",
       "      <td>Merval</td>\n",
       "    </tr>\n",
       "    <tr>\n",
       "      <th>2000-01-05</th>\n",
       "      <td>522.580017090</td>\n",
       "      <td>533.900024414</td>\n",
       "      <td>516.900024414</td>\n",
       "      <td>532.679992676</td>\n",
       "      <td>532.679992676</td>\n",
       "      <td>0</td>\n",
       "      <td>Merval</td>\n",
       "    </tr>\n",
       "    <tr>\n",
       "      <th>2000-01-06</th>\n",
       "      <td>533.210021973</td>\n",
       "      <td>533.669982910</td>\n",
       "      <td>525.809997559</td>\n",
       "      <td>528.469970703</td>\n",
       "      <td>528.469970703</td>\n",
       "      <td>0</td>\n",
       "      <td>Merval</td>\n",
       "    </tr>\n",
       "    <tr>\n",
       "      <th>2000-01-07</th>\n",
       "      <td>528.469970703</td>\n",
       "      <td>533.070007324</td>\n",
       "      <td>521.330017090</td>\n",
       "      <td>522.119995117</td>\n",
       "      <td>522.119995117</td>\n",
       "      <td>0</td>\n",
       "      <td>Merval</td>\n",
       "    </tr>\n",
       "  </tbody>\n",
       "</table>\n",
       "</div>"
      ],
      "text/plain": [
       "                    Open          High           Low         Close  \\\n",
       "Date                                                                 \n",
       "2000-01-03 550.280029297 559.950012207 550.280029297 551.830017090   \n",
       "2000-01-04 550.840026855 550.840026855 522.969970703 522.969970703   \n",
       "2000-01-05 522.580017090 533.900024414 516.900024414 532.679992676   \n",
       "2000-01-06 533.210021973 533.669982910 525.809997559 528.469970703   \n",
       "2000-01-07 528.469970703 533.070007324 521.330017090 522.119995117   \n",
       "\n",
       "               Adj Close  Volume Instrumento  \n",
       "Date                                          \n",
       "2000-01-03 551.830017090       0      Merval  \n",
       "2000-01-04 522.969970703       0      Merval  \n",
       "2000-01-05 532.679992676       0      Merval  \n",
       "2000-01-06 528.469970703       0      Merval  \n",
       "2000-01-07 522.119995117       0      Merval  "
      ]
     },
     "execution_count": 39,
     "metadata": {},
     "output_type": "execute_result"
    },
    {
     "data": {
      "text/html": [
       "<div>\n",
       "<style scoped>\n",
       "    .dataframe tbody tr th:only-of-type {\n",
       "        vertical-align: middle;\n",
       "    }\n",
       "\n",
       "    .dataframe tbody tr th {\n",
       "        vertical-align: top;\n",
       "    }\n",
       "\n",
       "    .dataframe thead th {\n",
       "        text-align: right;\n",
       "    }\n",
       "</style>\n",
       "<table border=\"1\" class=\"dataframe\">\n",
       "  <thead>\n",
       "    <tr style=\"text-align: right;\">\n",
       "      <th></th>\n",
       "      <th>Open</th>\n",
       "      <th>High</th>\n",
       "      <th>Low</th>\n",
       "      <th>Close</th>\n",
       "      <th>Adj Close</th>\n",
       "      <th>Volume</th>\n",
       "      <th>Instrumento</th>\n",
       "    </tr>\n",
       "    <tr>\n",
       "      <th>Date</th>\n",
       "      <th></th>\n",
       "      <th></th>\n",
       "      <th></th>\n",
       "      <th></th>\n",
       "      <th></th>\n",
       "      <th></th>\n",
       "      <th></th>\n",
       "    </tr>\n",
       "  </thead>\n",
       "  <tbody>\n",
       "    <tr>\n",
       "      <th>2021-01-29</th>\n",
       "      <td>49630.089843750</td>\n",
       "      <td>49999.929687500</td>\n",
       "      <td>48202.859375000</td>\n",
       "      <td>48257.140625000</td>\n",
       "      <td>48257.140625000</td>\n",
       "      <td>0</td>\n",
       "      <td>Merval</td>\n",
       "    </tr>\n",
       "    <tr>\n",
       "      <th>2021-02-01</th>\n",
       "      <td>48257.140625000</td>\n",
       "      <td>49773.820312500</td>\n",
       "      <td>48257.140625000</td>\n",
       "      <td>49576.890625000</td>\n",
       "      <td>49576.890625000</td>\n",
       "      <td>0</td>\n",
       "      <td>Merval</td>\n",
       "    </tr>\n",
       "  </tbody>\n",
       "</table>\n",
       "</div>"
      ],
      "text/plain": [
       "                      Open            High             Low           Close  \\\n",
       "Date                                                                         \n",
       "2021-01-29 49630.089843750 49999.929687500 48202.859375000 48257.140625000   \n",
       "2021-02-01 48257.140625000 49773.820312500 48257.140625000 49576.890625000   \n",
       "\n",
       "                 Adj Close  Volume Instrumento  \n",
       "Date                                            \n",
       "2021-01-29 48257.140625000       0      Merval  \n",
       "2021-02-01 49576.890625000       0      Merval  "
      ]
     },
     "execution_count": 39,
     "metadata": {},
     "output_type": "execute_result"
    }
   ],
   "source": [
    "# Importamos el indice Merval\n",
    "ticker_merval = '^MERV'\n",
    "indice_merval = pdr.get_data_yahoo(ticker_merval, start=\"2000-01-02\", end=Today_Date)\n",
    "indice_merval['Instrumento'] = 'Merval'\n",
    "indice_merval.head()\n",
    "indice_merval.tail(2)"
   ]
  },
  {
   "cell_type": "code",
   "execution_count": 40,
   "metadata": {},
   "outputs": [
    {
     "data": {
      "text/plain": [
       "Date\n",
       "2000-01-03    0\n",
       "2000-01-04    0\n",
       "2000-01-05    0\n",
       "2000-01-06    0\n",
       "2000-01-07    0\n",
       "             ..\n",
       "2021-01-26    0\n",
       "2021-01-27    0\n",
       "2021-01-28    0\n",
       "2021-01-29    0\n",
       "2021-02-01    0\n",
       "Name: Volume, Length: 5149, dtype: int64"
      ]
     },
     "execution_count": 40,
     "metadata": {},
     "output_type": "execute_result"
    }
   ],
   "source": [
    "indice_merval['Volume']"
   ]
  },
  {
   "cell_type": "code",
   "execution_count": 41,
   "metadata": {},
   "outputs": [
    {
     "data": {
      "text/html": [
       "<div>\n",
       "<style scoped>\n",
       "    .dataframe tbody tr th:only-of-type {\n",
       "        vertical-align: middle;\n",
       "    }\n",
       "\n",
       "    .dataframe tbody tr th {\n",
       "        vertical-align: top;\n",
       "    }\n",
       "\n",
       "    .dataframe thead th {\n",
       "        text-align: right;\n",
       "    }\n",
       "</style>\n",
       "<table border=\"1\" class=\"dataframe\">\n",
       "  <thead>\n",
       "    <tr style=\"text-align: right;\">\n",
       "      <th></th>\n",
       "      <th>open</th>\n",
       "      <th>high</th>\n",
       "      <th>low</th>\n",
       "      <th>close</th>\n",
       "      <th>adj_close</th>\n",
       "      <th>volume</th>\n",
       "      <th>merval</th>\n",
       "    </tr>\n",
       "    <tr>\n",
       "      <th>Date</th>\n",
       "      <th></th>\n",
       "      <th></th>\n",
       "      <th></th>\n",
       "      <th></th>\n",
       "      <th></th>\n",
       "      <th></th>\n",
       "      <th></th>\n",
       "    </tr>\n",
       "  </thead>\n",
       "  <tbody>\n",
       "    <tr>\n",
       "      <th>2000-01-03</th>\n",
       "      <td>550.280029297</td>\n",
       "      <td>559.950012207</td>\n",
       "      <td>550.280029297</td>\n",
       "      <td>551.830017090</td>\n",
       "      <td>551.830017090</td>\n",
       "      <td>0</td>\n",
       "      <td>Merval</td>\n",
       "    </tr>\n",
       "    <tr>\n",
       "      <th>2000-01-04</th>\n",
       "      <td>550.840026855</td>\n",
       "      <td>550.840026855</td>\n",
       "      <td>522.969970703</td>\n",
       "      <td>522.969970703</td>\n",
       "      <td>522.969970703</td>\n",
       "      <td>0</td>\n",
       "      <td>Merval</td>\n",
       "    </tr>\n",
       "  </tbody>\n",
       "</table>\n",
       "</div>"
      ],
      "text/plain": [
       "                    open          high           low         close  \\\n",
       "Date                                                                 \n",
       "2000-01-03 550.280029297 559.950012207 550.280029297 551.830017090   \n",
       "2000-01-04 550.840026855 550.840026855 522.969970703 522.969970703   \n",
       "\n",
       "               adj_close  volume  merval  \n",
       "Date                                      \n",
       "2000-01-03 551.830017090       0  Merval  \n",
       "2000-01-04 522.969970703       0  Merval  "
      ]
     },
     "execution_count": 41,
     "metadata": {},
     "output_type": "execute_result"
    }
   ],
   "source": [
    "df_merval = (janitor.clean_names(indice_merval)).copy()\n",
    "df_merval.rename(columns={'instrumento':'merval'}, inplace=True)\n",
    "df_merval.columns = df_merval.columns.str.lower()\n",
    "\n",
    "df_merval.head(2)"
   ]
  },
  {
   "cell_type": "code",
   "execution_count": 42,
   "metadata": {},
   "outputs": [
    {
     "data": {
      "text/html": [
       "<div>\n",
       "<style scoped>\n",
       "    .dataframe tbody tr th:only-of-type {\n",
       "        vertical-align: middle;\n",
       "    }\n",
       "\n",
       "    .dataframe tbody tr th {\n",
       "        vertical-align: top;\n",
       "    }\n",
       "\n",
       "    .dataframe thead th {\n",
       "        text-align: right;\n",
       "    }\n",
       "</style>\n",
       "<table border=\"1\" class=\"dataframe\">\n",
       "  <thead>\n",
       "    <tr style=\"text-align: right;\">\n",
       "      <th></th>\n",
       "      <th>open</th>\n",
       "      <th>high</th>\n",
       "      <th>low</th>\n",
       "      <th>close</th>\n",
       "      <th>adj_close</th>\n",
       "      <th>volume</th>\n",
       "      <th>merval</th>\n",
       "    </tr>\n",
       "    <tr>\n",
       "      <th>Date</th>\n",
       "      <th></th>\n",
       "      <th></th>\n",
       "      <th></th>\n",
       "      <th></th>\n",
       "      <th></th>\n",
       "      <th></th>\n",
       "      <th></th>\n",
       "    </tr>\n",
       "  </thead>\n",
       "  <tbody>\n",
       "    <tr>\n",
       "      <th>2021-01-26</th>\n",
       "      <td>47469.960937500</td>\n",
       "      <td>49551.910156250</td>\n",
       "      <td>47469.960937500</td>\n",
       "      <td>49463.839843750</td>\n",
       "      <td>49463.839843750</td>\n",
       "      <td>0</td>\n",
       "      <td>Merval</td>\n",
       "    </tr>\n",
       "    <tr>\n",
       "      <th>2021-01-27</th>\n",
       "      <td>49463.839843750</td>\n",
       "      <td>50218.558593750</td>\n",
       "      <td>48603.941406250</td>\n",
       "      <td>49970.410156250</td>\n",
       "      <td>49970.410156250</td>\n",
       "      <td>0</td>\n",
       "      <td>Merval</td>\n",
       "    </tr>\n",
       "    <tr>\n",
       "      <th>2021-01-28</th>\n",
       "      <td>49970.410156250</td>\n",
       "      <td>50523.589843750</td>\n",
       "      <td>49344.109375000</td>\n",
       "      <td>49630.089843750</td>\n",
       "      <td>49630.089843750</td>\n",
       "      <td>0</td>\n",
       "      <td>Merval</td>\n",
       "    </tr>\n",
       "    <tr>\n",
       "      <th>2021-01-29</th>\n",
       "      <td>49630.089843750</td>\n",
       "      <td>49999.929687500</td>\n",
       "      <td>48202.859375000</td>\n",
       "      <td>48257.140625000</td>\n",
       "      <td>48257.140625000</td>\n",
       "      <td>0</td>\n",
       "      <td>Merval</td>\n",
       "    </tr>\n",
       "    <tr>\n",
       "      <th>2021-02-01</th>\n",
       "      <td>48257.140625000</td>\n",
       "      <td>49773.820312500</td>\n",
       "      <td>48257.140625000</td>\n",
       "      <td>49576.890625000</td>\n",
       "      <td>49576.890625000</td>\n",
       "      <td>0</td>\n",
       "      <td>Merval</td>\n",
       "    </tr>\n",
       "  </tbody>\n",
       "</table>\n",
       "</div>"
      ],
      "text/plain": [
       "                      open            high             low           close  \\\n",
       "Date                                                                         \n",
       "2021-01-26 47469.960937500 49551.910156250 47469.960937500 49463.839843750   \n",
       "2021-01-27 49463.839843750 50218.558593750 48603.941406250 49970.410156250   \n",
       "2021-01-28 49970.410156250 50523.589843750 49344.109375000 49630.089843750   \n",
       "2021-01-29 49630.089843750 49999.929687500 48202.859375000 48257.140625000   \n",
       "2021-02-01 48257.140625000 49773.820312500 48257.140625000 49576.890625000   \n",
       "\n",
       "                 adj_close  volume  merval  \n",
       "Date                                        \n",
       "2021-01-26 49463.839843750       0  Merval  \n",
       "2021-01-27 49970.410156250       0  Merval  \n",
       "2021-01-28 49630.089843750       0  Merval  \n",
       "2021-01-29 48257.140625000       0  Merval  \n",
       "2021-02-01 49576.890625000       0  Merval  "
      ]
     },
     "execution_count": 42,
     "metadata": {},
     "output_type": "execute_result"
    }
   ],
   "source": [
    "df_merval.tail()"
   ]
  },
  {
   "cell_type": "markdown",
   "metadata": {},
   "source": [
    "### Acciones Argentinas"
   ]
  },
  {
   "cell_type": "code",
   "execution_count": 43,
   "metadata": {},
   "outputs": [
    {
     "name": "stdout",
     "output_type": "stream",
     "text": [
      "[*********************100%***********************]  1 of 1 completed\n",
      "[*********************100%***********************]  1 of 1 completed\n",
      "[*********************100%***********************]  1 of 1 completed\n",
      "[*********************100%***********************]  1 of 1 completed\n",
      "[*********************100%***********************]  1 of 1 completed\n",
      "[*********************100%***********************]  1 of 1 completed\n",
      "[*********************100%***********************]  1 of 1 completed\n",
      "[*********************100%***********************]  1 of 1 completed\n",
      "[*********************100%***********************]  1 of 1 completed\n",
      "[*********************100%***********************]  1 of 1 completed\n",
      "[*********************100%***********************]  1 of 1 completed\n",
      "[*********************100%***********************]  1 of 1 completed\n",
      "[*********************100%***********************]  1 of 1 completed\n",
      "[*********************100%***********************]  1 of 1 completed\n",
      "[*********************100%***********************]  1 of 1 completed\n",
      "[*********************100%***********************]  1 of 1 completed\n",
      "[*********************100%***********************]  1 of 1 completed\n",
      "[*********************100%***********************]  1 of 1 completed\n",
      "[*********************100%***********************]  1 of 1 completed\n",
      "[*********************100%***********************]  1 of 1 completed\n",
      "[*********************100%***********************]  1 of 1 completed\n",
      "[*********************100%***********************]  1 of 1 completed\n",
      "\n",
      "1 Failed download:\n",
      "- MVIA.BA: No data found, symbol may be delisted\n",
      "[*********************100%***********************]  1 of 1 completed\n",
      "[*********************100%***********************]  1 of 1 completed\n"
     ]
    }
   ],
   "source": [
    "# Importamos las cotizaciones históricas, hasta hoy, de las acciones argentinas desde Yahoo Finance\n",
    "# Ojo: A veces la informacion está mal. La librería funciona bien, scrapea la pagina correctamente.\n",
    "# pero es la página de Yahoo la que le pifia (ej: BBAR muestra que todos los dias la cotizacion fue 142.5, cualquiera)\n",
    "lista_tickers_acciones_argentinas = ['auso',\n",
    "                                     'agro',\n",
    "                                     'ggal',\n",
    "                                     'bhip',\n",
    "                                     'bma',\n",
    "                                     'bpat',\n",
    "                                     'brio',\n",
    "                                     'byma',\n",
    "                                     'ctio',\n",
    "#                                      'cvh',\n",
    "                                     'edn',\n",
    "                                     'ferr',\n",
    "                                     'fipl',\n",
    "                                     'gcla',\n",
    "                                     'hava',\n",
    "                                     'bbar',\n",
    "                                     'grim',\n",
    "                                     'lede',\n",
    "                                     'long',\n",
    "                                     'metr',\n",
    "                                     'moli',\n",
    "                                     'mori',\n",
    "                                     'mvia',\n",
    "                                     'supv',\n",
    "                                     'ypfd'\n",
    "                                     ]\n",
    "lista_tickers_acciones_argentinas_original = lista_tickers_acciones_argentinas.copy()\n",
    "df_acciones_arg = pdr.get_data_yahoo(lista_tickers_acciones_argentinas[0] + \".BA\", start=\"2000-01-02\", end=Today_Date)[['Adj Close']]\n",
    "df_acciones_arg.columns=[lista_tickers_acciones_argentinas[0]]\n",
    "del lista_tickers_acciones_argentinas[0]\n",
    "\n",
    "# Creamos dict vacio para luego colocarle la data\n",
    "dict_acciones_argentinas = {}\n",
    "\n",
    "for ticker in lista_tickers_acciones_argentinas:\n",
    "    # download dataframe using pandas_datareader\n",
    "    df_aux = pdr.get_data_yahoo(ticker + \".BA\", start=\"2000-01-02\", end=Today_Date)\n",
    "    df_aux['ticker'] = ticker\n",
    "    # al dataframe le limpiamos los nombres de las columnas con janitor, y lo copiamos dentro del dict\n",
    "    dict_acciones_argentinas[ticker] = (janitor.clean_names(df_aux)).copy()\n"
   ]
  },
  {
   "cell_type": "code",
   "execution_count": 44,
   "metadata": {},
   "outputs": [
    {
     "data": {
      "text/html": [
       "<div>\n",
       "<style scoped>\n",
       "    .dataframe tbody tr th:only-of-type {\n",
       "        vertical-align: middle;\n",
       "    }\n",
       "\n",
       "    .dataframe tbody tr th {\n",
       "        vertical-align: top;\n",
       "    }\n",
       "\n",
       "    .dataframe thead th {\n",
       "        text-align: right;\n",
       "    }\n",
       "</style>\n",
       "<table border=\"1\" class=\"dataframe\">\n",
       "  <thead>\n",
       "    <tr style=\"text-align: right;\">\n",
       "      <th></th>\n",
       "      <th>open</th>\n",
       "      <th>high</th>\n",
       "      <th>low</th>\n",
       "      <th>close</th>\n",
       "      <th>adj_close</th>\n",
       "      <th>volume</th>\n",
       "      <th>ticker</th>\n",
       "    </tr>\n",
       "    <tr>\n",
       "      <th>Date</th>\n",
       "      <th></th>\n",
       "      <th></th>\n",
       "      <th></th>\n",
       "      <th></th>\n",
       "      <th></th>\n",
       "      <th></th>\n",
       "      <th></th>\n",
       "    </tr>\n",
       "  </thead>\n",
       "  <tbody>\n",
       "    <tr>\n",
       "      <th>2000-07-26</th>\n",
       "      <td>1.730000019</td>\n",
       "      <td>1.750000000</td>\n",
       "      <td>1.700000048</td>\n",
       "      <td>1.730000019</td>\n",
       "      <td>1.664921522</td>\n",
       "      <td>422242</td>\n",
       "      <td>ggal</td>\n",
       "    </tr>\n",
       "    <tr>\n",
       "      <th>2000-07-27</th>\n",
       "      <td>1.750000000</td>\n",
       "      <td>1.759999990</td>\n",
       "      <td>1.730000019</td>\n",
       "      <td>1.750000000</td>\n",
       "      <td>1.684168935</td>\n",
       "      <td>344044</td>\n",
       "      <td>ggal</td>\n",
       "    </tr>\n",
       "    <tr>\n",
       "      <th>2000-07-28</th>\n",
       "      <td>1.720000029</td>\n",
       "      <td>1.740000010</td>\n",
       "      <td>1.710000038</td>\n",
       "      <td>1.720000029</td>\n",
       "      <td>1.655297518</td>\n",
       "      <td>561980</td>\n",
       "      <td>ggal</td>\n",
       "    </tr>\n",
       "    <tr>\n",
       "      <th>2000-07-31</th>\n",
       "      <td>1.750000000</td>\n",
       "      <td>1.759999990</td>\n",
       "      <td>1.690000057</td>\n",
       "      <td>1.750000000</td>\n",
       "      <td>1.684168935</td>\n",
       "      <td>381111</td>\n",
       "      <td>ggal</td>\n",
       "    </tr>\n",
       "    <tr>\n",
       "      <th>2000-08-01</th>\n",
       "      <td>1.759999990</td>\n",
       "      <td>1.860000014</td>\n",
       "      <td>1.690000057</td>\n",
       "      <td>1.759999990</td>\n",
       "      <td>1.693792820</td>\n",
       "      <td>1968000</td>\n",
       "      <td>ggal</td>\n",
       "    </tr>\n",
       "    <tr>\n",
       "      <th>...</th>\n",
       "      <td>...</td>\n",
       "      <td>...</td>\n",
       "      <td>...</td>\n",
       "      <td>...</td>\n",
       "      <td>...</td>\n",
       "      <td>...</td>\n",
       "      <td>...</td>\n",
       "    </tr>\n",
       "    <tr>\n",
       "      <th>2021-01-26</th>\n",
       "      <td>112.400001526</td>\n",
       "      <td>118.900001526</td>\n",
       "      <td>112.400001526</td>\n",
       "      <td>117.800003052</td>\n",
       "      <td>117.800003052</td>\n",
       "      <td>1163097</td>\n",
       "      <td>ggal</td>\n",
       "    </tr>\n",
       "    <tr>\n",
       "      <th>2021-01-27</th>\n",
       "      <td>117.449996948</td>\n",
       "      <td>119.900001526</td>\n",
       "      <td>115.000000000</td>\n",
       "      <td>118.800003052</td>\n",
       "      <td>118.800003052</td>\n",
       "      <td>1052824</td>\n",
       "      <td>ggal</td>\n",
       "    </tr>\n",
       "    <tr>\n",
       "      <th>2021-01-28</th>\n",
       "      <td>117.599998474</td>\n",
       "      <td>120.699996948</td>\n",
       "      <td>117.599998474</td>\n",
       "      <td>119.500000000</td>\n",
       "      <td>119.500000000</td>\n",
       "      <td>808116</td>\n",
       "      <td>ggal</td>\n",
       "    </tr>\n",
       "    <tr>\n",
       "      <th>2021-01-29</th>\n",
       "      <td>120.449996948</td>\n",
       "      <td>120.449996948</td>\n",
       "      <td>115.050003052</td>\n",
       "      <td>115.699996948</td>\n",
       "      <td>115.699996948</td>\n",
       "      <td>1551028</td>\n",
       "      <td>ggal</td>\n",
       "    </tr>\n",
       "    <tr>\n",
       "      <th>2021-02-01</th>\n",
       "      <td>116.099998474</td>\n",
       "      <td>119.300003052</td>\n",
       "      <td>116.099998474</td>\n",
       "      <td>119.150001526</td>\n",
       "      <td>119.150001526</td>\n",
       "      <td>874855</td>\n",
       "      <td>ggal</td>\n",
       "    </tr>\n",
       "  </tbody>\n",
       "</table>\n",
       "<p>5126 rows × 7 columns</p>\n",
       "</div>"
      ],
      "text/plain": [
       "                    open          high           low         close  \\\n",
       "Date                                                                 \n",
       "2000-07-26   1.730000019   1.750000000   1.700000048   1.730000019   \n",
       "2000-07-27   1.750000000   1.759999990   1.730000019   1.750000000   \n",
       "2000-07-28   1.720000029   1.740000010   1.710000038   1.720000029   \n",
       "2000-07-31   1.750000000   1.759999990   1.690000057   1.750000000   \n",
       "2000-08-01   1.759999990   1.860000014   1.690000057   1.759999990   \n",
       "...                  ...           ...           ...           ...   \n",
       "2021-01-26 112.400001526 118.900001526 112.400001526 117.800003052   \n",
       "2021-01-27 117.449996948 119.900001526 115.000000000 118.800003052   \n",
       "2021-01-28 117.599998474 120.699996948 117.599998474 119.500000000   \n",
       "2021-01-29 120.449996948 120.449996948 115.050003052 115.699996948   \n",
       "2021-02-01 116.099998474 119.300003052 116.099998474 119.150001526   \n",
       "\n",
       "               adj_close   volume ticker  \n",
       "Date                                      \n",
       "2000-07-26   1.664921522   422242   ggal  \n",
       "2000-07-27   1.684168935   344044   ggal  \n",
       "2000-07-28   1.655297518   561980   ggal  \n",
       "2000-07-31   1.684168935   381111   ggal  \n",
       "2000-08-01   1.693792820  1968000   ggal  \n",
       "...                  ...      ...    ...  \n",
       "2021-01-26 117.800003052  1163097   ggal  \n",
       "2021-01-27 118.800003052  1052824   ggal  \n",
       "2021-01-28 119.500000000   808116   ggal  \n",
       "2021-01-29 115.699996948  1551028   ggal  \n",
       "2021-02-01 119.150001526   874855   ggal  \n",
       "\n",
       "[5126 rows x 7 columns]"
      ]
     },
     "execution_count": 44,
     "metadata": {},
     "output_type": "execute_result"
    }
   ],
   "source": [
    "a = dict_acciones_argentinas['ggal']\n",
    "a"
   ]
  },
  {
   "cell_type": "code",
   "execution_count": null,
   "metadata": {},
   "outputs": [],
   "source": [
    "# df_cruce = pd.merge(df_merval, df_acciones_arg, how='inner', left_index=True, right_index=True )\n",
    "# df_cruce.sort_values(by='Date', ascending=True, axis='index',inplace=True)\n",
    "# df_cruce.head()\n",
    "# len(df_cruce)"
   ]
  },
  {
   "cell_type": "markdown",
   "metadata": {},
   "source": [
    "# Serie Dolar Blue"
   ]
  },
  {
   "cell_type": "markdown",
   "metadata": {},
   "source": [
    "## Importamos desde una página las cotizaciones desde 2015 hasta hoy"
   ]
  },
  {
   "cell_type": "code",
   "execution_count": 45,
   "metadata": {},
   "outputs": [],
   "source": [
    "import requests\n",
    "from bs4 import BeautifulSoup\n",
    "import datetime\n",
    "import pandas as pd\n",
    "\n",
    "def scrap(año, mes):\n",
    "    url  = 'https://www.cotizacion-dolar.com.ar/dolar-blue-historico-'+str(año)+'.php'\n",
    "    for i in range(1,7):\n",
    "        try:        \n",
    "            fecha = datetime.datetime(año,mes,i)\n",
    "            data = {'fecha': fecha.strftime('%d-%m-%y')}\n",
    "            resp = requests.post(url, data=data)\n",
    "            soup = BeautifulSoup(resp.text, \"html.parser\")\n",
    "            break\n",
    "        except:\n",
    "            print('Falló en ',i)    \n",
    "    filas = soup.find_all('td', {'style' : 'padding: 1%'})\n",
    "    return filas\n",
    "\n",
    "def parsear(filas):\n",
    "    mensual = pd.DataFrame() \n",
    "    for i in range(1, int(len(list(filas))/3)):\n",
    "        dic = {}\n",
    "        dic['fecha'] = filas[3*i].text\n",
    "        dic['bid'] = filas[3*i+1].text\n",
    "        dic['ask'] = filas[3*i+2].text\n",
    "        rueda = pd.DataFrame.from_dict(dic, orient='index').transpose().set_index('fecha')\n",
    "        rueda.index = pd.to_datetime(rueda.index, format='%d-%m-%y ')\n",
    "        mensual = pd.concat([mensual,rueda], axis=0)\n",
    "    return mensual\n",
    "\n",
    "def downloadAño(año):\n",
    "    tablaAnual = pd.DataFrame()\n",
    "    for i in range(1,13):\n",
    "        filas = scrap(año=año, mes=i)\n",
    "        tabla = parsear(filas)\n",
    "        tablaAnual = pd.concat([tablaAnual,tabla],axis=0)\n",
    "        print('mes',i, 'del año ', str(año), 'listo')        \n",
    "#     tablaAnual.to_excel('blue_'+str(año)+'.xlsx')\n",
    "    return tablaAnual \n",
    "    print(tablaAnual)\n",
    "    \n",
    "# downloadAño(2016)"
   ]
  },
  {
   "cell_type": "code",
   "execution_count": 50,
   "metadata": {},
   "outputs": [
    {
     "name": "stdout",
     "output_type": "stream",
     "text": [
      "mes 1 del año  2015 listo\n",
      "mes 2 del año  2015 listo\n",
      "mes 3 del año  2015 listo\n",
      "mes 4 del año  2015 listo\n",
      "mes 5 del año  2015 listo\n",
      "mes 6 del año  2015 listo\n",
      "mes 7 del año  2015 listo\n",
      "mes 8 del año  2015 listo\n",
      "mes 9 del año  2015 listo\n",
      "mes 10 del año  2015 listo\n",
      "mes 11 del año  2015 listo\n",
      "mes 12 del año  2015 listo\n",
      "mes 1 del año  2016 listo\n",
      "mes 2 del año  2016 listo\n",
      "mes 3 del año  2016 listo\n",
      "mes 4 del año  2016 listo\n",
      "mes 5 del año  2016 listo\n",
      "mes 6 del año  2016 listo\n",
      "mes 7 del año  2016 listo\n",
      "mes 8 del año  2016 listo\n",
      "mes 9 del año  2016 listo\n",
      "mes 10 del año  2016 listo\n",
      "mes 11 del año  2016 listo\n",
      "mes 12 del año  2016 listo\n",
      "mes 1 del año  2017 listo\n",
      "mes 2 del año  2017 listo\n",
      "mes 3 del año  2017 listo\n",
      "mes 4 del año  2017 listo\n",
      "mes 5 del año  2017 listo\n",
      "mes 6 del año  2017 listo\n",
      "mes 7 del año  2017 listo\n",
      "mes 8 del año  2017 listo\n",
      "mes 9 del año  2017 listo\n",
      "mes 10 del año  2017 listo\n",
      "mes 11 del año  2017 listo\n",
      "mes 12 del año  2017 listo\n",
      "mes 1 del año  2018 listo\n",
      "mes 2 del año  2018 listo\n",
      "mes 3 del año  2018 listo\n",
      "mes 4 del año  2018 listo\n",
      "mes 5 del año  2018 listo\n",
      "mes 6 del año  2018 listo\n",
      "mes 7 del año  2018 listo\n",
      "mes 8 del año  2018 listo\n",
      "mes 9 del año  2018 listo\n",
      "mes 10 del año  2018 listo\n",
      "mes 11 del año  2018 listo\n",
      "mes 12 del año  2018 listo\n",
      "mes 1 del año  2019 listo\n",
      "mes 2 del año  2019 listo\n",
      "mes 3 del año  2019 listo\n",
      "mes 4 del año  2019 listo\n",
      "mes 5 del año  2019 listo\n",
      "mes 6 del año  2019 listo\n",
      "mes 7 del año  2019 listo\n",
      "mes 8 del año  2019 listo\n",
      "mes 9 del año  2019 listo\n",
      "mes 10 del año  2019 listo\n",
      "mes 11 del año  2019 listo\n",
      "mes 12 del año  2019 listo\n",
      "mes 1 del año  2020 listo\n",
      "mes 2 del año  2020 listo\n",
      "mes 3 del año  2020 listo\n",
      "mes 4 del año  2020 listo\n",
      "mes 5 del año  2020 listo\n",
      "mes 6 del año  2020 listo\n",
      "mes 7 del año  2020 listo\n",
      "mes 8 del año  2020 listo\n",
      "mes 9 del año  2020 listo\n",
      "mes 10 del año  2020 listo\n",
      "mes 11 del año  2020 listo\n",
      "mes 12 del año  2020 listo\n",
      "mes 1 del año  2021 listo\n",
      "mes 2 del año  2021 listo\n",
      "mes 3 del año  2021 listo\n",
      "mes 4 del año  2021 listo\n",
      "mes 5 del año  2021 listo\n",
      "mes 6 del año  2021 listo\n",
      "mes 7 del año  2021 listo\n",
      "mes 8 del año  2021 listo\n",
      "mes 9 del año  2021 listo\n",
      "mes 10 del año  2021 listo\n",
      "mes 11 del año  2021 listo\n",
      "mes 12 del año  2021 listo\n"
     ]
    }
   ],
   "source": [
    "dolar_blue = {}\n",
    "for i in np.arange(2015, 2022, 1):  \n",
    "    dolar_blue[str(i)] = downloadAño(i)"
   ]
  },
  {
   "cell_type": "code",
   "execution_count": 51,
   "metadata": {},
   "outputs": [
    {
     "data": {
      "text/html": [
       "<div>\n",
       "<style scoped>\n",
       "    .dataframe tbody tr th:only-of-type {\n",
       "        vertical-align: middle;\n",
       "    }\n",
       "\n",
       "    .dataframe tbody tr th {\n",
       "        vertical-align: top;\n",
       "    }\n",
       "\n",
       "    .dataframe thead th {\n",
       "        text-align: right;\n",
       "    }\n",
       "</style>\n",
       "<table border=\"1\" class=\"dataframe\">\n",
       "  <thead>\n",
       "    <tr style=\"text-align: right;\">\n",
       "      <th></th>\n",
       "      <th>bid</th>\n",
       "      <th>ask</th>\n",
       "    </tr>\n",
       "    <tr>\n",
       "      <th>fecha</th>\n",
       "      <th></th>\n",
       "      <th></th>\n",
       "    </tr>\n",
       "  </thead>\n",
       "  <tbody>\n",
       "    <tr>\n",
       "      <th>2015-07-22</th>\n",
       "      <td>$ 14.80</td>\n",
       "      <td>$ 14.90</td>\n",
       "    </tr>\n",
       "    <tr>\n",
       "      <th>2015-07-23</th>\n",
       "      <td>$ 14.51</td>\n",
       "      <td>$ 14.66</td>\n",
       "    </tr>\n",
       "  </tbody>\n",
       "</table>\n",
       "</div>"
      ],
      "text/plain": [
       "                  bid       ask\n",
       "fecha                          \n",
       "2015-07-22   $ 14.80    $ 14.90\n",
       "2015-07-23   $ 14.51    $ 14.66"
      ]
     },
     "execution_count": 51,
     "metadata": {},
     "output_type": "execute_result"
    },
    {
     "data": {
      "text/html": [
       "<div>\n",
       "<style scoped>\n",
       "    .dataframe tbody tr th:only-of-type {\n",
       "        vertical-align: middle;\n",
       "    }\n",
       "\n",
       "    .dataframe tbody tr th {\n",
       "        vertical-align: top;\n",
       "    }\n",
       "\n",
       "    .dataframe thead th {\n",
       "        text-align: right;\n",
       "    }\n",
       "</style>\n",
       "<table border=\"1\" class=\"dataframe\">\n",
       "  <thead>\n",
       "    <tr style=\"text-align: right;\">\n",
       "      <th></th>\n",
       "      <th>bid</th>\n",
       "      <th>ask</th>\n",
       "    </tr>\n",
       "    <tr>\n",
       "      <th>fecha</th>\n",
       "      <th></th>\n",
       "      <th></th>\n",
       "    </tr>\n",
       "  </thead>\n",
       "  <tbody>\n",
       "    <tr>\n",
       "      <th>2021-02-01</th>\n",
       "      <td>$ 148.80</td>\n",
       "      <td>$ 153.00</td>\n",
       "    </tr>\n",
       "    <tr>\n",
       "      <th>2021-02-02</th>\n",
       "      <td>$ 148.80</td>\n",
       "      <td>$ 153.00</td>\n",
       "    </tr>\n",
       "  </tbody>\n",
       "</table>\n",
       "</div>"
      ],
      "text/plain": [
       "                   bid        ask\n",
       "fecha                            \n",
       "2021-02-01   $ 148.80    $ 153.00\n",
       "2021-02-02   $ 148.80    $ 153.00"
      ]
     },
     "execution_count": 51,
     "metadata": {},
     "output_type": "execute_result"
    }
   ],
   "source": [
    "df_db = pd.concat(dolar_blue.values(), ignore_index=False)\n",
    "df_db.head(2)\n",
    "df_db.tail(2)"
   ]
  },
  {
   "cell_type": "markdown",
   "metadata": {},
   "source": [
    "## Desde un excel traemos los datos más antiguos"
   ]
  },
  {
   "cell_type": "code",
   "execution_count": 54,
   "metadata": {},
   "outputs": [
    {
     "data": {
      "text/html": [
       "<div>\n",
       "<style scoped>\n",
       "    .dataframe tbody tr th:only-of-type {\n",
       "        vertical-align: middle;\n",
       "    }\n",
       "\n",
       "    .dataframe tbody tr th {\n",
       "        vertical-align: top;\n",
       "    }\n",
       "\n",
       "    .dataframe thead th {\n",
       "        text-align: right;\n",
       "    }\n",
       "</style>\n",
       "<table border=\"1\" class=\"dataframe\">\n",
       "  <thead>\n",
       "    <tr style=\"text-align: right;\">\n",
       "      <th></th>\n",
       "      <th>Fecha</th>\n",
       "      <th>Venta</th>\n",
       "    </tr>\n",
       "  </thead>\n",
       "  <tbody>\n",
       "    <tr>\n",
       "      <th>0</th>\n",
       "      <td>2020-10-01</td>\n",
       "      <td>147,00</td>\n",
       "    </tr>\n",
       "    <tr>\n",
       "      <th>1</th>\n",
       "      <td>2020-09-30</td>\n",
       "      <td>146,00</td>\n",
       "    </tr>\n",
       "  </tbody>\n",
       "</table>\n",
       "</div>"
      ],
      "text/plain": [
       "       Fecha   Venta\n",
       "0 2020-10-01  147,00\n",
       "1 2020-09-30  146,00"
      ]
     },
     "execution_count": 54,
     "metadata": {},
     "output_type": "execute_result"
    },
    {
     "data": {
      "text/html": [
       "<div>\n",
       "<style scoped>\n",
       "    .dataframe tbody tr th:only-of-type {\n",
       "        vertical-align: middle;\n",
       "    }\n",
       "\n",
       "    .dataframe tbody tr th {\n",
       "        vertical-align: top;\n",
       "    }\n",
       "\n",
       "    .dataframe thead th {\n",
       "        text-align: right;\n",
       "    }\n",
       "</style>\n",
       "<table border=\"1\" class=\"dataframe\">\n",
       "  <thead>\n",
       "    <tr style=\"text-align: right;\">\n",
       "      <th></th>\n",
       "      <th>Fecha</th>\n",
       "      <th>Venta</th>\n",
       "    </tr>\n",
       "  </thead>\n",
       "  <tbody>\n",
       "    <tr>\n",
       "      <th>4648</th>\n",
       "      <td>2002-01-14</td>\n",
       "      <td>1,68</td>\n",
       "    </tr>\n",
       "    <tr>\n",
       "      <th>4649</th>\n",
       "      <td>2002-01-11</td>\n",
       "      <td>1,70</td>\n",
       "    </tr>\n",
       "  </tbody>\n",
       "</table>\n",
       "</div>"
      ],
      "text/plain": [
       "          Fecha Venta\n",
       "4648 2002-01-14  1,68\n",
       "4649 2002-01-11  1,70"
      ]
     },
     "execution_count": 54,
     "metadata": {},
     "output_type": "execute_result"
    }
   ],
   "source": [
    "db_ambito = pd.read_excel(RAW/'serie_dolar_blue.xlsx' )\n",
    "db_ambito = db_ambito[['Fecha','Venta']]\n",
    "db_ambito.head(2)\n",
    "db_ambito.tail(2)"
   ]
  },
  {
   "cell_type": "markdown",
   "metadata": {},
   "source": [
    "## Generamos la serie histórica completa de dolar blue"
   ]
  },
  {
   "cell_type": "code",
   "execution_count": 55,
   "metadata": {},
   "outputs": [
    {
     "data": {
      "text/html": [
       "<div>\n",
       "<style scoped>\n",
       "    .dataframe tbody tr th:only-of-type {\n",
       "        vertical-align: middle;\n",
       "    }\n",
       "\n",
       "    .dataframe tbody tr th {\n",
       "        vertical-align: top;\n",
       "    }\n",
       "\n",
       "    .dataframe thead th {\n",
       "        text-align: right;\n",
       "    }\n",
       "</style>\n",
       "<table border=\"1\" class=\"dataframe\">\n",
       "  <thead>\n",
       "    <tr style=\"text-align: right;\">\n",
       "      <th></th>\n",
       "      <th>Fecha_OK</th>\n",
       "      <th>Venta_DBlue</th>\n",
       "    </tr>\n",
       "  </thead>\n",
       "  <tbody>\n",
       "    <tr>\n",
       "      <th>4649</th>\n",
       "      <td>2002-01-11</td>\n",
       "      <td>1.700000000</td>\n",
       "    </tr>\n",
       "    <tr>\n",
       "      <th>4648</th>\n",
       "      <td>2002-01-14</td>\n",
       "      <td>1.680000000</td>\n",
       "    </tr>\n",
       "    <tr>\n",
       "      <th>4647</th>\n",
       "      <td>2002-01-15</td>\n",
       "      <td>1.950000000</td>\n",
       "    </tr>\n",
       "    <tr>\n",
       "      <th>4646</th>\n",
       "      <td>2002-01-16</td>\n",
       "      <td>1.870000000</td>\n",
       "    </tr>\n",
       "    <tr>\n",
       "      <th>4645</th>\n",
       "      <td>2002-01-17</td>\n",
       "      <td>1.970000000</td>\n",
       "    </tr>\n",
       "    <tr>\n",
       "      <th>...</th>\n",
       "      <td>...</td>\n",
       "      <td>...</td>\n",
       "    </tr>\n",
       "    <tr>\n",
       "      <th>4737</th>\n",
       "      <td>2021-01-27</td>\n",
       "      <td>154.000000000</td>\n",
       "    </tr>\n",
       "    <tr>\n",
       "      <th>4738</th>\n",
       "      <td>2021-01-28</td>\n",
       "      <td>154.400000000</td>\n",
       "    </tr>\n",
       "    <tr>\n",
       "      <th>4739</th>\n",
       "      <td>2021-01-29</td>\n",
       "      <td>153.000000000</td>\n",
       "    </tr>\n",
       "    <tr>\n",
       "      <th>4740</th>\n",
       "      <td>2021-02-01</td>\n",
       "      <td>153.000000000</td>\n",
       "    </tr>\n",
       "    <tr>\n",
       "      <th>4741</th>\n",
       "      <td>2021-02-02</td>\n",
       "      <td>153.000000000</td>\n",
       "    </tr>\n",
       "  </tbody>\n",
       "</table>\n",
       "<p>4742 rows × 2 columns</p>\n",
       "</div>"
      ],
      "text/plain": [
       "       Fecha_OK   Venta_DBlue\n",
       "4649 2002-01-11   1.700000000\n",
       "4648 2002-01-14   1.680000000\n",
       "4647 2002-01-15   1.950000000\n",
       "4646 2002-01-16   1.870000000\n",
       "4645 2002-01-17   1.970000000\n",
       "...         ...           ...\n",
       "4737 2021-01-27 154.000000000\n",
       "4738 2021-01-28 154.400000000\n",
       "4739 2021-01-29 153.000000000\n",
       "4740 2021-02-01 153.000000000\n",
       "4741 2021-02-02 153.000000000\n",
       "\n",
       "[4742 rows x 2 columns]"
      ]
     },
     "execution_count": 55,
     "metadata": {},
     "output_type": "execute_result"
    }
   ],
   "source": [
    "# Reseteamos el index de la primer serie, por comodidad\n",
    "df_db.reset_index(inplace=True)\n",
    "# Cruzamos los dataframes\n",
    "cruza_db = pd.merge(db_ambito, df_db, how='outer', left_on='Fecha', right_on='fecha')\n",
    "cruza_db['Fecha_OK'] = np.where(cruza_db['Fecha'].isnull(), cruza_db['fecha'], cruza_db['Fecha'])\n",
    "cruza_db.sort_values(by='Fecha_OK',inplace=True)\n",
    "cruza_db['Venta'] = cruza_db['Venta'].str.replace(',','.')\n",
    "cruza_db['ask'] = cruza_db['ask'].str.replace('$','')\n",
    "cruza_db['dif'] = np.where(~(cruza_db['Venta'].isnull()) | (cruza_db['ask'].isnull()),\n",
    "                           cruza_db['Venta'].astype(float) - cruza_db['ask'].astype(float),\n",
    "                           0)\n",
    "cruza_db['Venta_DBlue'] = np.where(cruza_db['Venta'].isnull(), cruza_db['ask'], cruza_db['Venta']) \n",
    "cruza_db['Venta_DBlue'] = cruza_db['Venta_DBlue'].astype(float)\n",
    "cruza_db = cruza_db[['Fecha_OK', 'Venta_DBlue']]\n",
    "\n",
    "cruza_db"
   ]
  },
  {
   "cell_type": "markdown",
   "metadata": {},
   "source": [
    "# Creación de funciones ad hoc"
   ]
  },
  {
   "cell_type": "code",
   "execution_count": null,
   "metadata": {},
   "outputs": [],
   "source": [
    "# Función que genera la VD binaria para distintas ventanas temporales. \n",
    "# Para cada horizonte, se exige que el rendimiento porcentual haya superado el threshold.\n",
    "\n",
    "def window_vds(df_input, list_windows=[1, 5, 10, 22], list_names=['1d', '1w', '2w','1m'], threshold=0.0):\n",
    "\n",
    "    # umbral de rendimientos\n",
    "    threshold_vd = threshold\n",
    "\n",
    "    for window, name in zip(list_windows, list_names):\n",
    "        # calculamos el máximo rendimiento alcanzado en la ventana temporal posterior a cada día\n",
    "        window = 1 # próximo dia habil\n",
    "        df_input['up_' + str(name)] =  (df_input['adj_close'].rolling(window=window, min_periods=1).max().shift(-window) - df_input['adj_close']) / df_input['adj_close']    \n",
    "        df_input['vd_' + str(name)] =  np.where(  df_input['up_' + str(name)] > threshold_vd , 1 , 0)\n",
    "    \n",
    "    # vemos cuales columnas auxiliares hay que quitar (todas las que dicen 'up_')\n",
    "    list_to_drop = ['up_' + str(name) for name in list_names]\n",
    "    df_input.drop(columns=list_to_drop, inplace=True)\n",
    "    return df_input\n"
   ]
  },
  {
   "cell_type": "code",
   "execution_count": null,
   "metadata": {},
   "outputs": [],
   "source": [
    "# Funcion para la creacion de atributos\n",
    "def attributes_generator(df_input):\n",
    "    # ratios respecto al valor open\n",
    "    df_input['ratio_high_open'] = df_input['high'] / df_input['open']\n",
    "    df_input['ratio_low_open'] = df_input['low'] / df_input['open']\n",
    "    df_input['ratio_close_open'] = df_input['adj_close'] / df_input['open']\n",
    "    # ratios respecto al valor close\n",
    "    df_input['ratio_high_close'] = df_input['high'] / df_input['adj_close']\n",
    "    df_input['ratio_low_close'] = df_input['low'] / df_input['adj_close']\n",
    "    # ratio high low\n",
    "    df_input['ratio_high_low'] = df_input['high'] / df_input['low']\n",
    "    \n",
    "    # ratio todo respecto a su media\n",
    "    df_input['ratio_open_itsmean'] = df_input['open'] / (df_input['high'].mean())\n",
    "    df_input['ratio_close_itsmean'] = df_input['adj_close'] / (df_input['high'].mean())\n",
    "    df_input['ratio_low_itsmean'] = df_input['low'] / (df_input['high'].mean())\n",
    "    df_input['ratio_high_itsmean'] = df_input['high'] / (df_input['high'].mean())\n",
    "    \n",
    "    # ratio todo respecto a la media del close\n",
    "    df_input['ratio_open_meanclose'] = df_input['open'] / (df_input['adj_close'].mean())\n",
    "    df_input['ratio_close_meanclose'] = df_input['adj_close'] / (df_input['adj_close'].mean())\n",
    "    df_input['ratio_low_meanclose'] = df_input['low'] / (df_input['adj_close'].mean())\n",
    "    df_input['ratio_high_meanclose'] = df_input['high'] / (df_input['adj_close'].mean())\n",
    "    \n",
    "    \n",
    "    # Rezagos y tendencias!! \n",
    "    \n",
    "    \n",
    "    \n",
    "    \n"
   ]
  },
  {
   "cell_type": "markdown",
   "metadata": {},
   "source": [
    "# Cruce de datos"
   ]
  },
  {
   "cell_type": "markdown",
   "metadata": {},
   "source": [
    "## Trabajamos un poco el df de merval antes de cruzarlo"
   ]
  },
  {
   "cell_type": "code",
   "execution_count": null,
   "metadata": {},
   "outputs": [],
   "source": [
    "a = window_vds(df_merval, threshold=0.0)\n",
    "a"
   ]
  },
  {
   "cell_type": "code",
   "execution_count": null,
   "metadata": {},
   "outputs": [],
   "source": []
  },
  {
   "cell_type": "code",
   "execution_count": null,
   "metadata": {},
   "outputs": [],
   "source": []
  },
  {
   "cell_type": "code",
   "execution_count": null,
   "metadata": {},
   "outputs": [],
   "source": []
  },
  {
   "cell_type": "code",
   "execution_count": null,
   "metadata": {},
   "outputs": [],
   "source": []
  },
  {
   "cell_type": "code",
   "execution_count": null,
   "metadata": {},
   "outputs": [],
   "source": [
    "df_cruce.head()"
   ]
  },
  {
   "cell_type": "code",
   "execution_count": null,
   "metadata": {},
   "outputs": [],
   "source": [
    "os.chdir(inputs)\n",
    "os.getcwd()\n",
    "db_ambito = pd.read_excel('dolar_blue\\\\serie_dolar_blue.xlsx', )\n",
    "db_ambito = db_ambito[['Fecha','Venta']]\n",
    "df_db.reset_index(inplace=True)\n",
    "cruza_db = pd.merge(db_ambito, df_db, how='outer', left_on='Fecha', right_on='fecha')\n",
    "cruza_db['Fecha_OK'] = np.where(cruza_db['Fecha'].isnull(), cruza_db['fecha'], cruza_db['Fecha'])\n",
    "cruza_db.sort_values(by='Fecha_OK',inplace=True)\n",
    "cruza_db['Venta'] = cruza_db['Venta'].str.replace(',','.')\n",
    "cruza_db['ask'] = cruza_db['ask'].str.replace('$','')\n",
    "cruza_db['dif'] = np.where(~(cruza_db['Venta'].isnull()) | (cruza_db['ask'].isnull()),\n",
    "                           cruza_db['Venta'].astype(float) - cruza_db['ask'].astype(float),\n",
    "                           0)\n",
    "cruza_db['Venta_DBlue'] = np.where(cruza_db['Venta'].isnull(), cruza_db['ask'], cruza_db['Venta']) \n",
    "cruza_db['Venta_DBlue'] = cruza_db['Venta_DBlue'].astype(float)\n",
    "cruza_db = cruza_db[['Fecha_OK', 'Venta_DBlue']]\n",
    "\n",
    "cruza_db"
   ]
  },
  {
   "cell_type": "code",
   "execution_count": null,
   "metadata": {},
   "outputs": [],
   "source": [
    "df_acciones_db = pd.merge(df_cruce, cruza_db, how='inner', left_on='Date', right_on='Fecha_OK')\n",
    "df_acciones_db.head(2)"
   ]
  },
  {
   "cell_type": "code",
   "execution_count": null,
   "metadata": {},
   "outputs": [],
   "source": [
    "df_acciones_db['Venta_DBlue']"
   ]
  },
  {
   "cell_type": "code",
   "execution_count": null,
   "metadata": {},
   "outputs": [],
   "source": [
    "lista_no_dolarizar = ['Fecha_OK', 'Venta_DBlue']\n",
    "lista_dolarizar = set(df_cruce.columns.tolist()) - set(lista_no_dolarizar)\n",
    "for i in lista_dolarizar:\n",
    "    df_acciones_db[ str(i) + '_USD' ] = df_acciones_db[i] / df_acciones_db['Venta_DBlue'] \n",
    "# df_acciones_db = df_acciones_db[~df_acciones_db['Retorno_merval'].isnull()]\n",
    "df_acciones_db.head()"
   ]
  },
  {
   "cell_type": "code",
   "execution_count": null,
   "metadata": {},
   "outputs": [],
   "source": [
    "df_acciones_db"
   ]
  },
  {
   "cell_type": "code",
   "execution_count": null,
   "metadata": {},
   "outputs": [],
   "source": [
    "bu = df_acciones_db.copy()\n",
    "df_acciones_db = df_acciones_db[df_acciones_db['Fecha_OK']>'2010-05-01']\n",
    "lista_en_usd = df_acciones_db.columns.tolist() \n",
    "lista_en_usd = [k for k in lista_en_usd if '_USD' in k]\n",
    "ver_usd = df_acciones_db[lista_en_usd]\n",
    "ver_usd.head(2)"
   ]
  },
  {
   "cell_type": "code",
   "execution_count": null,
   "metadata": {},
   "outputs": [],
   "source": []
  },
  {
   "cell_type": "code",
   "execution_count": null,
   "metadata": {},
   "outputs": [],
   "source": [
    "oportunidades = pd.DataFrame(ver_usd.max())\n",
    "oportunidades.columns = ['Max']\n",
    "oportunidades['Max_Realista'] = oportunidades['Max'] * 0.75\n",
    "oportunidades['Valor_Hoy'] = ver_usd.tail(1).T.values\n",
    "oportunidades['Size_of_Prize'] = oportunidades['Max_Realista'] / oportunidades['Valor_Hoy']\n",
    "oportunidades.sort_values(by='Size_of_Prize',inplace=True, ascending=False)\n",
    "oportunidades"
   ]
  },
  {
   "cell_type": "code",
   "execution_count": null,
   "metadata": {},
   "outputs": [],
   "source": [
    "# df_merv_db = pd.merge(indice_merval, cruza_db, how='inner', left_on='Date',right_on = 'Fecha_OK')[['Date','Fecha_OK','Adj Close','Instrumento', 'Venta_DBlue']]\n",
    "# # df_merv_db['ask'] = df_merv_db['ask'].astype(float)\n",
    "# df_merv_db['DBlue'] = df_merv_db['Venta_DBlue']\n",
    "# df_merv_db['DBlue'] = df_merv_db['DBlue'].astype(float)\n",
    "# df_merv_db['Merv_USD'] = df_merv_db['Adj Close'] / df_merv_db['DBlue']\n",
    "# df_merv_db.head(3)\n",
    "# df_merv_db.tail(3)"
   ]
  },
  {
   "cell_type": "code",
   "execution_count": null,
   "metadata": {},
   "outputs": [],
   "source": [
    "# df_merv_db.tail(20)"
   ]
  },
  {
   "cell_type": "code",
   "execution_count": null,
   "metadata": {},
   "outputs": [],
   "source": [
    "A = 45482 / 165\n",
    "A"
   ]
  },
  {
   "cell_type": "code",
   "execution_count": null,
   "metadata": {},
   "outputs": [],
   "source": [
    "B = 1400 / 275 \n",
    "B"
   ]
  },
  {
   "cell_type": "code",
   "execution_count": null,
   "metadata": {},
   "outputs": [],
   "source": [
    "df_acciones_db['merval_USD'].min()"
   ]
  },
  {
   "cell_type": "code",
   "execution_count": null,
   "metadata": {},
   "outputs": [],
   "source": [
    "df_acciones_db['merval_USD'].max()\n",
    "df_acciones_db['merval_USD'].min()\n",
    "df_acciones_db['merval_USD'].max() /df_acciones_db['merval_USD'].min()"
   ]
  },
  {
   "cell_type": "code",
   "execution_count": null,
   "metadata": {
    "scrolled": false
   },
   "outputs": [],
   "source": [
    "import matplotlib.pyplot  as plt\n",
    "from matplotlib.pyplot import cm\n",
    "\n",
    "plt.rcParams[\"figure.figsize\"] = (15,15)\n",
    "\n",
    "color=iter(cm.tab20(np.linspace(0,1,len(ver_usd.columns.tolist()))))\n",
    "for i in ver_usd.columns.tolist():\n",
    "    color_i = next(color)\n",
    "#     print('el color es esta garcha: ',color_i)\n",
    "    plt.plot('Fecha_OK', str(i), data=df_acciones_db, color=color_i)\n",
    "    plt.title(i + ' en USD Blue')\n",
    "    plt.ylim([0, None]) \n",
    "    plt.show()"
   ]
  },
  {
   "cell_type": "code",
   "execution_count": null,
   "metadata": {},
   "outputs": [],
   "source": [
    "import requests"
   ]
  },
  {
   "cell_type": "code",
   "execution_count": null,
   "metadata": {},
   "outputs": [],
   "source": [
    "import requests\n",
    "\n",
    "\n",
    "PARAMS = {\n",
    "    \"status\":\"OK\",\n",
    "    \"segments\":[\n",
    "        {\n",
    "            \"marketSegmentId\":\"DDA\",\n",
    "            \"marketId\":\"ROFX\"\n",
    "        },\n",
    "        {\n",
    "            \"marketSegmentId\":\"DDF\",\n",
    "            \"marketId\":\"ROFX\"\n",
    "        }\n",
    "                ]\n",
    "        }\n",
    "# response = requests.get('https://api.remarkets.primary.com.ar/auth/getToken', params = PARAMS)\n",
    "response = requests.get('https://api.remarkets.primary.com.ar/rest/segment/all', params = PARAMS)\n"
   ]
  },
  {
   "cell_type": "code",
   "execution_count": null,
   "metadata": {},
   "outputs": [],
   "source": [
    "response.text"
   ]
  },
  {
   "cell_type": "code",
   "execution_count": null,
   "metadata": {},
   "outputs": [],
   "source": []
  },
  {
   "cell_type": "code",
   "execution_count": null,
   "metadata": {},
   "outputs": [],
   "source": []
  },
  {
   "cell_type": "code",
   "execution_count": null,
   "metadata": {},
   "outputs": [],
   "source": []
  },
  {
   "cell_type": "code",
   "execution_count": null,
   "metadata": {},
   "outputs": [],
   "source": []
  },
  {
   "cell_type": "code",
   "execution_count": null,
   "metadata": {},
   "outputs": [],
   "source": [
    "import matplotlib.pyplot  as plt\n",
    "# colors = ['green','steelblue','grey','orange', 'red']\n",
    "# plt.scatter('Date', 'Merv_USD', c='green', data=df_merv_db, s=150)\n",
    "# plt.xlabel('entry a')\n",
    "# plt.ylabel('entry b')\n",
    "plt.rcParams[\"figure.figsize\"] = (12,12)\n",
    "#plt.show()\n",
    "# plt.plot('Fecha_OK', 'merval_USD', data=df_acciones_db, color='green')\n",
    "plt.plot('Fecha_OK', 'ypfd_USD', data=df_acciones_db, color='darkorange')\n",
    "plt.title('Merval en USD Blue')\n",
    "plt.ylim([0, None]) \n",
    "plt.show()"
   ]
  },
  {
   "cell_type": "code",
   "execution_count": null,
   "metadata": {},
   "outputs": [],
   "source": [
    "import matplotlib.pyplot  as plt\n",
    "# colors = ['green','steelblue','grey','orange', 'red']\n",
    "# plt.scatter('Date', 'Merv_USD', c='green', data=df_merv_db, s=150)\n",
    "# plt.xlabel('entry a')\n",
    "# plt.ylabel('entry b')\n",
    "plt.rcParams[\"figure.figsize\"] = (12,12)\n",
    "#plt.show()\n",
    "# plt.plot('Fecha_OK', 'merval_USD', data=df_acciones_db, color='green')\n",
    "plt.plot('Fecha_OK', 'agro_USD', data=df_acciones_db, color='lightblue')\n",
    "plt.title('Merval en USD Blue')\n",
    "plt.ylim([0, None]) \n",
    "plt.show()"
   ]
  },
  {
   "cell_type": "code",
   "execution_count": null,
   "metadata": {},
   "outputs": [],
   "source": [
    "import matplotlib.pyplot  as plt\n",
    "# colors = ['green','steelblue','grey','orange', 'red']\n",
    "# plt.scatter('Date', 'Merv_USD', c='green', data=df_merv_db, s=150)\n",
    "# plt.xlabel('entry a')\n",
    "# plt.ylabel('entry b')\n",
    "plt.rcParams[\"figure.figsize\"] = (12,12)\n",
    "#plt.show()\n",
    "# plt.plot('Fecha_OK', 'merval_USD', data=df_acciones_db, color='green')\n",
    "plt.plot('Fecha_OK', 'agro_USD', data=df_acciones_db, color='goldenrod')\n",
    "plt.title('Merval en USD Blue')\n",
    "plt.ylim([0, None]) \n",
    "plt.show()"
   ]
  },
  {
   "cell_type": "code",
   "execution_count": null,
   "metadata": {},
   "outputs": [],
   "source": []
  },
  {
   "cell_type": "code",
   "execution_count": null,
   "metadata": {},
   "outputs": [],
   "source": [
    "import matplotlib.pyplot  as plt\n",
    "# colors = ['green','steelblue','grey','orange', 'red']\n",
    "# plt.scatter('Date', 'Merv_USD', c='green', data=df_merv_db, s=150)\n",
    "# plt.xlabel('entry a')\n",
    "# plt.ylabel('entry b')\n",
    "plt.rcParams[\"figure.figsize\"] = (12,12)\n",
    "#plt.show()\n",
    "plt.plot('Fecha_OK', 'merval_USD', data=df_acciones_db, color='green')\n",
    "plt.title('Merval en USD Blue')\n",
    "plt.ylim([0, 1800]) \n",
    "plt.show()"
   ]
  },
  {
   "cell_type": "code",
   "execution_count": null,
   "metadata": {},
   "outputs": [],
   "source": [
    "# Tomo el tiempo al final de la ejecucion\n",
    "end_time=time.time()\n",
    "print('El script demora', (end_time-start_time)/60, 'minutos')"
   ]
  }
 ],
 "metadata": {
  "kernelspec": {
   "display_name": "Python 3",
   "language": "python",
   "name": "python3"
  },
  "language_info": {
   "codemirror_mode": {
    "name": "ipython",
    "version": 3
   },
   "file_extension": ".py",
   "mimetype": "text/x-python",
   "name": "python",
   "nbconvert_exporter": "python",
   "pygments_lexer": "ipython3",
   "version": "3.7.6"
  },
  "toc": {
   "base_numbering": 1,
   "nav_menu": {},
   "number_sections": true,
   "sideBar": false,
   "skip_h1_title": false,
   "title_cell": "Table of Contents",
   "title_sidebar": "Contents",
   "toc_cell": false,
   "toc_position": {
    "height": "241.391px",
    "left": "1687.8px",
    "top": "111.14px",
    "width": "209.188px"
   },
   "toc_section_display": true,
   "toc_window_display": true
  },
  "varInspector": {
   "cols": {
    "lenName": 16,
    "lenType": 16,
    "lenVar": 40
   },
   "kernels_config": {
    "python": {
     "delete_cmd_postfix": "",
     "delete_cmd_prefix": "del ",
     "library": "var_list.py",
     "varRefreshCmd": "print(var_dic_list())"
    },
    "r": {
     "delete_cmd_postfix": ") ",
     "delete_cmd_prefix": "rm(",
     "library": "var_list.r",
     "varRefreshCmd": "cat(var_dic_list()) "
    }
   },
   "types_to_exclude": [
    "module",
    "function",
    "builtin_function_or_method",
    "instance",
    "_Feature"
   ],
   "window_display": false
  }
 },
 "nbformat": 4,
 "nbformat_minor": 4
}
