{
 "cells": [
  {
   "cell_type": "code",
   "execution_count": 1,
   "metadata": {},
   "outputs": [
    {
     "data": {
      "application/javascript": [
       "/** Below because this notebook is pretty large */\n",
       "var rto = 200;\n",
       "console.log('NB: Increase require timeout to ' + rto + ' seconds');\n",
       "window.requirejs.config({waitSeconds: rto});\n"
      ],
      "text/plain": [
       "<IPython.core.display.Javascript object>"
      ]
     },
     "metadata": {},
     "output_type": "display_data"
    }
   ],
   "source": [
    "%%javascript\n",
    "/** Below because this notebook is pretty large */\n",
    "var rto = 200;\n",
    "console.log('NB: Increase require timeout to ' + rto + ' seconds');\n",
    "window.requirejs.config({waitSeconds: rto});"
   ]
  },
  {
   "cell_type": "markdown",
   "metadata": {},
   "source": [
    "## Importacion de Librerías y Configuración de Consola"
   ]
  },
  {
   "cell_type": "code",
   "execution_count": 2,
   "metadata": {},
   "outputs": [],
   "source": [
    "import time \n",
    "import os\n",
    "import janitor\n",
    "import pandas as pd\n",
    "import numpy as numpy\n",
    "from pandas_datareader import data as pdr\n",
    "from pathlib import Path\n",
    "import pickle\n",
    "\n",
    "# Antes de utilizar esta librería, descargarla. Ingresar en terminal: pip install yfinance --upgrade --no-cache-dir\n",
    "import yfinance as yf\n",
    "yf.pdr_override() # <== that's all it takes :-)"
   ]
  },
  {
   "cell_type": "code",
   "execution_count": 3,
   "metadata": {},
   "outputs": [
    {
     "name": "stdout",
     "output_type": "stream",
     "text": [
      "\n"
     ]
    }
   ],
   "source": [
    "print()"
   ]
  },
  {
   "cell_type": "code",
   "execution_count": 4,
   "metadata": {},
   "outputs": [],
   "source": [
    "# Especificamos el directorio base, retrocediendo una carpeta\n",
    "BASE = Path('..')\n",
    "# Y, a partir de allí, definimos las carpetas que debieran existir\n",
    "RAW = BASE/'raw'\n",
    "NOTEBOOKS = BASE/'notebooks'\n",
    "DATA = BASE/'data'\n",
    "REFERENCIAS = BASE/'referencias'\n",
    "PERFORMANCE = BASE/'performance'\n",
    "MODELOS = BASE/'modelos'"
   ]
  },
  {
   "cell_type": "code",
   "execution_count": 5,
   "metadata": {},
   "outputs": [],
   "source": [
    "# Creamos todos los directorios que definimos previamente, si no existieran aún.\n",
    "path_list = [RAW, NOTEBOOKS, DATA, REFERENCIAS, PERFORMANCE]\n",
    "for path_i in path_list:\n",
    "    if not os.path.exists(path_i):\n",
    "        os.makedirs(path_i)"
   ]
  },
  {
   "cell_type": "code",
   "execution_count": 6,
   "metadata": {},
   "outputs": [],
   "source": [
    "#Tomo el tiempo al inicio de la ejecucion\n",
    "start_time=time.time()"
   ]
  },
  {
   "cell_type": "code",
   "execution_count": 7,
   "metadata": {},
   "outputs": [
    {
     "data": {
      "text/html": [
       "<style>.container { width:100% !important; }</style>"
      ],
      "text/plain": [
       "<IPython.core.display.HTML object>"
      ]
     },
     "metadata": {},
     "output_type": "display_data"
    }
   ],
   "source": [
    "#Seteamos para que no utilice notacion cientifica\n",
    "pd.options.display.float_format = '{:.9f}'.format\n",
    "#Seteo para que el máximo de columnas que muestra al levantar una base sean 500\n",
    "pd.set_option('display.max_columns',500)\n",
    "#Estos códigos hacen que la visualización de la consola abarque toda la pantalla (sin los recortes a los costados). Tambien hacen que al mostrar dataframes podamos ver todas las columnas que tiene.\n",
    "from IPython.core.display import display, HTML\n",
    "display(HTML(\"<style>.container { width:100% !important; }</style>\"))\n"
   ]
  },
  {
   "cell_type": "code",
   "execution_count": 8,
   "metadata": {},
   "outputs": [],
   "source": [
    "# Codigo para poder imprimir multiples outputs en una misma línea\n",
    "from IPython.core.interactiveshell import InteractiveShell\n",
    "InteractiveShell.ast_node_interactivity = \"all\""
   ]
  },
  {
   "cell_type": "code",
   "execution_count": 9,
   "metadata": {},
   "outputs": [],
   "source": [
    "# # Definiremos el directorio en el que estamos trabajando. \n",
    "# scripts=os.getcwd()  #Obtenemos la direccion actual\n",
    "# os.chdir('..') # Nos vamos una carpeta atrás\n",
    "# raiz=os.getcwd() # Esta direccion la guardaremos como \"raiz\" \n",
    "# os.chdir(raiz+'\\\\raw') \n",
    "# raw=os.getcwd()\n",
    "# os.chdir(raiz+'\\\\raw')\n",
    "# outputs=os.getcwd()"
   ]
  },
  {
   "cell_type": "markdown",
   "metadata": {},
   "source": [
    "# Importacion de Archivos"
   ]
  },
  {
   "cell_type": "markdown",
   "metadata": {},
   "source": [
    "## Ingresamos Fecha de Hoy"
   ]
  },
  {
   "cell_type": "code",
   "execution_count": 10,
   "metadata": {},
   "outputs": [],
   "source": [
    "from datetime import date\n",
    "today = date.today()\n",
    "Today_Date = str(today)"
   ]
  },
  {
   "cell_type": "markdown",
   "metadata": {},
   "source": [
    "## Informacion BCBA"
   ]
  },
  {
   "cell_type": "markdown",
   "metadata": {},
   "source": [
    "### Índices Merval"
   ]
  },
  {
   "cell_type": "code",
   "execution_count": 11,
   "metadata": {},
   "outputs": [
    {
     "name": "stdout",
     "output_type": "stream",
     "text": [
      "[*********************100%***********************]  1 of 1 completed\n"
     ]
    },
    {
     "data": {
      "text/html": [
       "<div>\n",
       "<style scoped>\n",
       "    .dataframe tbody tr th:only-of-type {\n",
       "        vertical-align: middle;\n",
       "    }\n",
       "\n",
       "    .dataframe tbody tr th {\n",
       "        vertical-align: top;\n",
       "    }\n",
       "\n",
       "    .dataframe thead th {\n",
       "        text-align: right;\n",
       "    }\n",
       "</style>\n",
       "<table border=\"1\" class=\"dataframe\">\n",
       "  <thead>\n",
       "    <tr style=\"text-align: right;\">\n",
       "      <th></th>\n",
       "      <th>Open</th>\n",
       "      <th>High</th>\n",
       "      <th>Low</th>\n",
       "      <th>Close</th>\n",
       "      <th>Adj Close</th>\n",
       "      <th>Volume</th>\n",
       "      <th>ticker</th>\n",
       "    </tr>\n",
       "    <tr>\n",
       "      <th>Date</th>\n",
       "      <th></th>\n",
       "      <th></th>\n",
       "      <th></th>\n",
       "      <th></th>\n",
       "      <th></th>\n",
       "      <th></th>\n",
       "      <th></th>\n",
       "    </tr>\n",
       "  </thead>\n",
       "  <tbody>\n",
       "    <tr>\n",
       "      <th>2002-01-17</th>\n",
       "      <td>322.970001221</td>\n",
       "      <td>375.829986572</td>\n",
       "      <td>318.920013428</td>\n",
       "      <td>371.200012207</td>\n",
       "      <td>371.200012207</td>\n",
       "      <td>0</td>\n",
       "      <td>merval</td>\n",
       "    </tr>\n",
       "    <tr>\n",
       "      <th>2002-01-18</th>\n",
       "      <td>377.149993896</td>\n",
       "      <td>422.299987793</td>\n",
       "      <td>377.119995117</td>\n",
       "      <td>414.859985352</td>\n",
       "      <td>414.859985352</td>\n",
       "      <td>0</td>\n",
       "      <td>merval</td>\n",
       "    </tr>\n",
       "    <tr>\n",
       "      <th>2002-01-21</th>\n",
       "      <td>414.859985352</td>\n",
       "      <td>500.589996338</td>\n",
       "      <td>414.859985352</td>\n",
       "      <td>470.549987793</td>\n",
       "      <td>470.549987793</td>\n",
       "      <td>0</td>\n",
       "      <td>merval</td>\n",
       "    </tr>\n",
       "    <tr>\n",
       "      <th>2002-01-22</th>\n",
       "      <td>480.859985352</td>\n",
       "      <td>482.540008545</td>\n",
       "      <td>441.209991455</td>\n",
       "      <td>445.880004883</td>\n",
       "      <td>445.880004883</td>\n",
       "      <td>0</td>\n",
       "      <td>merval</td>\n",
       "    </tr>\n",
       "    <tr>\n",
       "      <th>2002-01-23</th>\n",
       "      <td>438.670013428</td>\n",
       "      <td>453.230010986</td>\n",
       "      <td>423.230010986</td>\n",
       "      <td>438.890014648</td>\n",
       "      <td>438.890014648</td>\n",
       "      <td>0</td>\n",
       "      <td>merval</td>\n",
       "    </tr>\n",
       "  </tbody>\n",
       "</table>\n",
       "</div>"
      ],
      "text/plain": [
       "                    Open          High           Low         Close  \\\n",
       "Date                                                                 \n",
       "2002-01-17 322.970001221 375.829986572 318.920013428 371.200012207   \n",
       "2002-01-18 377.149993896 422.299987793 377.119995117 414.859985352   \n",
       "2002-01-21 414.859985352 500.589996338 414.859985352 470.549987793   \n",
       "2002-01-22 480.859985352 482.540008545 441.209991455 445.880004883   \n",
       "2002-01-23 438.670013428 453.230010986 423.230010986 438.890014648   \n",
       "\n",
       "               Adj Close  Volume  ticker  \n",
       "Date                                      \n",
       "2002-01-17 371.200012207       0  merval  \n",
       "2002-01-18 414.859985352       0  merval  \n",
       "2002-01-21 470.549987793       0  merval  \n",
       "2002-01-22 445.880004883       0  merval  \n",
       "2002-01-23 438.890014648       0  merval  "
      ]
     },
     "execution_count": 11,
     "metadata": {},
     "output_type": "execute_result"
    },
    {
     "data": {
      "text/html": [
       "<div>\n",
       "<style scoped>\n",
       "    .dataframe tbody tr th:only-of-type {\n",
       "        vertical-align: middle;\n",
       "    }\n",
       "\n",
       "    .dataframe tbody tr th {\n",
       "        vertical-align: top;\n",
       "    }\n",
       "\n",
       "    .dataframe thead th {\n",
       "        text-align: right;\n",
       "    }\n",
       "</style>\n",
       "<table border=\"1\" class=\"dataframe\">\n",
       "  <thead>\n",
       "    <tr style=\"text-align: right;\">\n",
       "      <th></th>\n",
       "      <th>Open</th>\n",
       "      <th>High</th>\n",
       "      <th>Low</th>\n",
       "      <th>Close</th>\n",
       "      <th>Adj Close</th>\n",
       "      <th>Volume</th>\n",
       "      <th>ticker</th>\n",
       "    </tr>\n",
       "    <tr>\n",
       "      <th>Date</th>\n",
       "      <th></th>\n",
       "      <th></th>\n",
       "      <th></th>\n",
       "      <th></th>\n",
       "      <th></th>\n",
       "      <th></th>\n",
       "      <th></th>\n",
       "    </tr>\n",
       "  </thead>\n",
       "  <tbody>\n",
       "    <tr>\n",
       "      <th>2021-02-17</th>\n",
       "      <td>51466.210937500</td>\n",
       "      <td>52646.460937500</td>\n",
       "      <td>51466.210937500</td>\n",
       "      <td>52386.589843750</td>\n",
       "      <td>52386.589843750</td>\n",
       "      <td>0</td>\n",
       "      <td>merval</td>\n",
       "    </tr>\n",
       "    <tr>\n",
       "      <th>2021-02-18</th>\n",
       "      <td>52386.589843750</td>\n",
       "      <td>53731.738281250</td>\n",
       "      <td>51400.718750000</td>\n",
       "      <td>51826.910156250</td>\n",
       "      <td>51826.910156250</td>\n",
       "      <td>0</td>\n",
       "      <td>merval</td>\n",
       "    </tr>\n",
       "  </tbody>\n",
       "</table>\n",
       "</div>"
      ],
      "text/plain": [
       "                      Open            High             Low           Close  \\\n",
       "Date                                                                         \n",
       "2021-02-17 51466.210937500 52646.460937500 51466.210937500 52386.589843750   \n",
       "2021-02-18 52386.589843750 53731.738281250 51400.718750000 51826.910156250   \n",
       "\n",
       "                 Adj Close  Volume  ticker  \n",
       "Date                                        \n",
       "2021-02-17 52386.589843750       0  merval  \n",
       "2021-02-18 51826.910156250       0  merval  "
      ]
     },
     "execution_count": 11,
     "metadata": {},
     "output_type": "execute_result"
    }
   ],
   "source": [
    "# Importamos el indice Merval\n",
    "ticker_merval = '^MERV'\n",
    "indice_merval = pdr.get_data_yahoo(ticker_merval, start=\"2002-01-11\", end=Today_Date)\n",
    "indice_merval['ticker'] = 'merval'\n",
    "indice_merval.head()\n",
    "indice_merval.tail(2)"
   ]
  },
  {
   "cell_type": "code",
   "execution_count": 12,
   "metadata": {},
   "outputs": [
    {
     "data": {
      "text/html": [
       "<div>\n",
       "<style scoped>\n",
       "    .dataframe tbody tr th:only-of-type {\n",
       "        vertical-align: middle;\n",
       "    }\n",
       "\n",
       "    .dataframe tbody tr th {\n",
       "        vertical-align: top;\n",
       "    }\n",
       "\n",
       "    .dataframe thead th {\n",
       "        text-align: right;\n",
       "    }\n",
       "</style>\n",
       "<table border=\"1\" class=\"dataframe\">\n",
       "  <thead>\n",
       "    <tr style=\"text-align: right;\">\n",
       "      <th></th>\n",
       "      <th>date</th>\n",
       "      <th>open</th>\n",
       "      <th>high</th>\n",
       "      <th>low</th>\n",
       "      <th>close</th>\n",
       "      <th>volume</th>\n",
       "      <th>ticker</th>\n",
       "    </tr>\n",
       "  </thead>\n",
       "  <tbody>\n",
       "    <tr>\n",
       "      <th>0</th>\n",
       "      <td>2002-01-17</td>\n",
       "      <td>322.970001221</td>\n",
       "      <td>375.829986572</td>\n",
       "      <td>318.920013428</td>\n",
       "      <td>371.200012207</td>\n",
       "      <td>0</td>\n",
       "      <td>merval</td>\n",
       "    </tr>\n",
       "    <tr>\n",
       "      <th>1</th>\n",
       "      <td>2002-01-18</td>\n",
       "      <td>377.149993896</td>\n",
       "      <td>422.299987793</td>\n",
       "      <td>377.119995117</td>\n",
       "      <td>414.859985352</td>\n",
       "      <td>0</td>\n",
       "      <td>merval</td>\n",
       "    </tr>\n",
       "  </tbody>\n",
       "</table>\n",
       "</div>"
      ],
      "text/plain": [
       "        date          open          high           low         close  volume  \\\n",
       "0 2002-01-17 322.970001221 375.829986572 318.920013428 371.200012207       0   \n",
       "1 2002-01-18 377.149993896 422.299987793 377.119995117 414.859985352       0   \n",
       "\n",
       "   ticker  \n",
       "0  merval  \n",
       "1  merval  "
      ]
     },
     "execution_count": 12,
     "metadata": {},
     "output_type": "execute_result"
    }
   ],
   "source": [
    "# Reseteamos index, para que 'Date' esté entre las columnas\n",
    "df_merval = indice_merval.reset_index()\n",
    "# Limpiamos el nombre de las columnas (todo en minusculas, sin espacios ni caracteres raros)\n",
    "df_merval = (janitor.clean_names(df_merval))\n",
    "# Quitamos la columna 'close'\n",
    "df_merval.drop(columns='close', inplace=True)\n",
    "# Y nombramos como 'close' a la que se llamaba 'adj_close' (ajustada por yahoo, esta es la posta)\n",
    "df_merval.rename(columns={'adj_close':'close'}, inplace=True)\n",
    "# mostramos\n",
    "df_merval.head(2)"
   ]
  },
  {
   "cell_type": "code",
   "execution_count": 13,
   "metadata": {},
   "outputs": [
    {
     "data": {
      "text/html": [
       "<div>\n",
       "<style scoped>\n",
       "    .dataframe tbody tr th:only-of-type {\n",
       "        vertical-align: middle;\n",
       "    }\n",
       "\n",
       "    .dataframe tbody tr th {\n",
       "        vertical-align: top;\n",
       "    }\n",
       "\n",
       "    .dataframe thead th {\n",
       "        text-align: right;\n",
       "    }\n",
       "</style>\n",
       "<table border=\"1\" class=\"dataframe\">\n",
       "  <thead>\n",
       "    <tr style=\"text-align: right;\">\n",
       "      <th></th>\n",
       "      <th>date</th>\n",
       "      <th>open</th>\n",
       "      <th>high</th>\n",
       "      <th>low</th>\n",
       "      <th>close</th>\n",
       "      <th>volume</th>\n",
       "      <th>ticker</th>\n",
       "    </tr>\n",
       "  </thead>\n",
       "  <tbody>\n",
       "    <tr>\n",
       "      <th>4662</th>\n",
       "      <td>2021-02-10</td>\n",
       "      <td>52266.750000000</td>\n",
       "      <td>52653.289062500</td>\n",
       "      <td>51930.949218750</td>\n",
       "      <td>51940.910156250</td>\n",
       "      <td>0</td>\n",
       "      <td>merval</td>\n",
       "    </tr>\n",
       "    <tr>\n",
       "      <th>4663</th>\n",
       "      <td>2021-02-11</td>\n",
       "      <td>51940.910156250</td>\n",
       "      <td>52429.980468750</td>\n",
       "      <td>51563.488281250</td>\n",
       "      <td>51654.558593750</td>\n",
       "      <td>0</td>\n",
       "      <td>merval</td>\n",
       "    </tr>\n",
       "    <tr>\n",
       "      <th>4664</th>\n",
       "      <td>2021-02-12</td>\n",
       "      <td>51654.558593750</td>\n",
       "      <td>52104.648437500</td>\n",
       "      <td>51245.578125000</td>\n",
       "      <td>51466.210937500</td>\n",
       "      <td>0</td>\n",
       "      <td>merval</td>\n",
       "    </tr>\n",
       "    <tr>\n",
       "      <th>4665</th>\n",
       "      <td>2021-02-17</td>\n",
       "      <td>51466.210937500</td>\n",
       "      <td>52646.460937500</td>\n",
       "      <td>51466.210937500</td>\n",
       "      <td>52386.589843750</td>\n",
       "      <td>0</td>\n",
       "      <td>merval</td>\n",
       "    </tr>\n",
       "    <tr>\n",
       "      <th>4666</th>\n",
       "      <td>2021-02-18</td>\n",
       "      <td>52386.589843750</td>\n",
       "      <td>53731.738281250</td>\n",
       "      <td>51400.718750000</td>\n",
       "      <td>51826.910156250</td>\n",
       "      <td>0</td>\n",
       "      <td>merval</td>\n",
       "    </tr>\n",
       "  </tbody>\n",
       "</table>\n",
       "</div>"
      ],
      "text/plain": [
       "           date            open            high             low  \\\n",
       "4662 2021-02-10 52266.750000000 52653.289062500 51930.949218750   \n",
       "4663 2021-02-11 51940.910156250 52429.980468750 51563.488281250   \n",
       "4664 2021-02-12 51654.558593750 52104.648437500 51245.578125000   \n",
       "4665 2021-02-17 51466.210937500 52646.460937500 51466.210937500   \n",
       "4666 2021-02-18 52386.589843750 53731.738281250 51400.718750000   \n",
       "\n",
       "               close  volume  ticker  \n",
       "4662 51940.910156250       0  merval  \n",
       "4663 51654.558593750       0  merval  \n",
       "4664 51466.210937500       0  merval  \n",
       "4665 52386.589843750       0  merval  \n",
       "4666 51826.910156250       0  merval  "
      ]
     },
     "execution_count": 13,
     "metadata": {},
     "output_type": "execute_result"
    }
   ],
   "source": [
    "df_merval.tail()"
   ]
  },
  {
   "cell_type": "markdown",
   "metadata": {},
   "source": [
    "### Acciones Argentinas"
   ]
  },
  {
   "cell_type": "code",
   "execution_count": 14,
   "metadata": {},
   "outputs": [
    {
     "name": "stdout",
     "output_type": "stream",
     "text": [
      "[*********************100%***********************]  1 of 1 completed\n",
      "[*********************100%***********************]  1 of 1 completed\n",
      "[*********************100%***********************]  1 of 1 completed\n",
      "[*********************100%***********************]  1 of 1 completed\n",
      "[*********************100%***********************]  1 of 1 completed\n",
      "[*********************100%***********************]  1 of 1 completed\n",
      "[*********************100%***********************]  1 of 1 completed\n",
      "[*********************100%***********************]  1 of 1 completed\n",
      "[*********************100%***********************]  1 of 1 completed\n",
      "[*********************100%***********************]  1 of 1 completed\n",
      "[*********************100%***********************]  1 of 1 completed\n",
      "[*********************100%***********************]  1 of 1 completed\n",
      "[*********************100%***********************]  1 of 1 completed\n",
      "[*********************100%***********************]  1 of 1 completed\n",
      "[*********************100%***********************]  1 of 1 completed\n",
      "[*********************100%***********************]  1 of 1 completed\n",
      "[*********************100%***********************]  1 of 1 completed\n",
      "[*********************100%***********************]  1 of 1 completed\n",
      "[*********************100%***********************]  1 of 1 completed\n",
      "[*********************100%***********************]  1 of 1 completed\n",
      "[*********************100%***********************]  1 of 1 completed\n",
      "[*********************100%***********************]  1 of 1 completed\n"
     ]
    }
   ],
   "source": [
    "# Importamos las cotizaciones históricas, hasta hoy, de las acciones argentinas desde Yahoo Finance\n",
    "# Ojo: A veces la informacion está mal. La librería funciona bien, scrapea la pagina correctamente.\n",
    "# pero es la página de Yahoo la que le pifia (ej: BBAR muestra que todos los dias la cotizacion fue 142.5, cualquiera)\n",
    "lista_tickers_acciones_argentinas = ['auso',\n",
    "                                     'agro',\n",
    "                                     'ggal',\n",
    "                                     'bhip',\n",
    "                                     'bma',\n",
    "                                     'bpat',\n",
    "                                     'brio',\n",
    "                                     'byma',\n",
    "                                     'ctio',\n",
    "#                                      'cvh',\n",
    "                                     'edn',\n",
    "                                     'ferr',\n",
    "                                     'fipl',\n",
    "                                     'gcla',\n",
    "                                     'hava',\n",
    "#                                      'bbar',\n",
    "                                     'grim',\n",
    "                                     'lede',\n",
    "                                     'long',\n",
    "                                     'metr',\n",
    "                                     'moli',\n",
    "                                     'mori',\n",
    "#                                      'mvia',\n",
    "                                     'supv',\n",
    "                                     'ypfd'\n",
    "                                     ]\n",
    "lista_tickers_acciones_argentinas_original = lista_tickers_acciones_argentinas.copy()\n",
    "# df_acciones_arg = pdr.get_data_yahoo(lista_tickers_acciones_argentinas[0] + \".BA\", start=\"2002-01-11\", end=Today_Date)[['Adj Close']]\n",
    "# df_acciones_arg.columns=[lista_tickers_acciones_argentinas[0]]\n",
    "# del lista_tickers_acciones_argentinas[0]\n",
    "\n",
    "# Creamos dict vacio para luego colocarle la data\n",
    "dict_acciones_argentinas = {}\n",
    "\n",
    "for ticker in lista_tickers_acciones_argentinas:\n",
    "    # download dataframe using pandas_datareader\n",
    "    df_aux = pdr.get_data_yahoo(ticker + \".BA\", start=\"2002-01-11\", end=Today_Date)\n",
    "    # Agregamos una columna especificando el ticker\n",
    "    df_aux['ticker'] = ticker\n",
    "    # quitamos la columna Close\n",
    "    df_aux.drop(columns='Close', inplace=True)\n",
    "    # reseteamos el index, así cuando limpiemos las columnas, 'date' estará incluida\n",
    "    df_aux.reset_index(inplace=True)\n",
    "    # limpiamos el nombre de todas las columnas\n",
    "    df_aux = janitor.clean_names(df_aux)\n",
    "    # reemplazamos adj_close por el nombre 'close', que es a lo que refiere\n",
    "    df_aux.rename(columns={'adj_close':'close'}, inplace=True)\n",
    "    # al dataframe le limpiamos los nombres de las columnas con janitor, y lo copiamos dentro del dict\n",
    "    dict_acciones_argentinas[ticker] = df_aux.copy()\n"
   ]
  },
  {
   "cell_type": "markdown",
   "metadata": {},
   "source": [
    "# Serie Dolar Blue"
   ]
  },
  {
   "cell_type": "markdown",
   "metadata": {},
   "source": [
    "## Importamos desde una página las cotizaciones desde 2015 hasta hoy"
   ]
  },
  {
   "cell_type": "code",
   "execution_count": 15,
   "metadata": {},
   "outputs": [],
   "source": [
    "import requests\n",
    "from bs4 import BeautifulSoup\n",
    "import datetime\n",
    "import pandas as pd\n",
    "\n",
    "def scrap(año, mes):\n",
    "    url  = 'https://www.cotizacion-dolar.com.ar/dolar-blue-historico-'+str(año)+'.php'\n",
    "    for i in range(1,7):\n",
    "        try:        \n",
    "            fecha = datetime.datetime(año,mes,i)\n",
    "            data = {'fecha': fecha.strftime('%d-%m-%y')}\n",
    "            resp = requests.post(url, data=data)\n",
    "            soup = BeautifulSoup(resp.text, \"html.parser\")\n",
    "            break\n",
    "        except:\n",
    "            print('Falló en ',i)    \n",
    "    filas = soup.find_all('td', {'style' : 'padding: 1%'})\n",
    "    return filas\n",
    "\n",
    "def parsear(filas):\n",
    "    mensual = pd.DataFrame() \n",
    "    for i in range(1, int(len(list(filas))/3)):\n",
    "        dic = {}\n",
    "        dic['fecha'] = filas[3*i].text\n",
    "        dic['bid'] = filas[3*i+1].text\n",
    "        dic['ask'] = filas[3*i+2].text\n",
    "        rueda = pd.DataFrame.from_dict(dic, orient='index').transpose().set_index('fecha')\n",
    "        rueda.index = pd.to_datetime(rueda.index, format='%d-%m-%y ')\n",
    "        mensual = pd.concat([mensual,rueda], axis=0)\n",
    "    return mensual\n",
    "\n",
    "def downloadAño(año):\n",
    "    tablaAnual = pd.DataFrame()\n",
    "    for i in range(1,13):\n",
    "        filas = scrap(año=año, mes=i)\n",
    "        tabla = parsear(filas)\n",
    "        tablaAnual = pd.concat([tablaAnual,tabla],axis=0)\n",
    "        print('mes',i, 'del año ', str(año), 'listo')        \n",
    "#     tablaAnual.to_excel('blue_'+str(año)+'.xlsx')\n",
    "    return tablaAnual \n",
    "    print(tablaAnual)\n"
   ]
  },
  {
   "cell_type": "code",
   "execution_count": 16,
   "metadata": {},
   "outputs": [
    {
     "name": "stdout",
     "output_type": "stream",
     "text": [
      "mes 1 del año  2015 listo\n",
      "mes 2 del año  2015 listo\n",
      "mes 3 del año  2015 listo\n",
      "mes 4 del año  2015 listo\n",
      "mes 5 del año  2015 listo\n",
      "mes 6 del año  2015 listo\n",
      "mes 7 del año  2015 listo\n",
      "mes 8 del año  2015 listo\n",
      "mes 9 del año  2015 listo\n",
      "mes 10 del año  2015 listo\n",
      "mes 11 del año  2015 listo\n",
      "mes 12 del año  2015 listo\n",
      "mes 1 del año  2016 listo\n",
      "mes 2 del año  2016 listo\n",
      "mes 3 del año  2016 listo\n",
      "mes 4 del año  2016 listo\n",
      "mes 5 del año  2016 listo\n",
      "mes 6 del año  2016 listo\n",
      "mes 7 del año  2016 listo\n",
      "mes 8 del año  2016 listo\n",
      "mes 9 del año  2016 listo\n",
      "mes 10 del año  2016 listo\n",
      "mes 11 del año  2016 listo\n",
      "mes 12 del año  2016 listo\n",
      "mes 1 del año  2017 listo\n",
      "mes 2 del año  2017 listo\n",
      "mes 3 del año  2017 listo\n",
      "mes 4 del año  2017 listo\n",
      "mes 5 del año  2017 listo\n",
      "mes 6 del año  2017 listo\n",
      "mes 7 del año  2017 listo\n",
      "mes 8 del año  2017 listo\n",
      "mes 9 del año  2017 listo\n",
      "mes 10 del año  2017 listo\n",
      "mes 11 del año  2017 listo\n",
      "mes 12 del año  2017 listo\n",
      "mes 1 del año  2018 listo\n",
      "mes 2 del año  2018 listo\n",
      "mes 3 del año  2018 listo\n",
      "mes 4 del año  2018 listo\n",
      "mes 5 del año  2018 listo\n",
      "mes 6 del año  2018 listo\n",
      "mes 7 del año  2018 listo\n",
      "mes 8 del año  2018 listo\n",
      "mes 9 del año  2018 listo\n",
      "mes 10 del año  2018 listo\n",
      "mes 11 del año  2018 listo\n",
      "mes 12 del año  2018 listo\n",
      "mes 1 del año  2019 listo\n",
      "mes 2 del año  2019 listo\n",
      "mes 3 del año  2019 listo\n",
      "mes 4 del año  2019 listo\n",
      "mes 5 del año  2019 listo\n",
      "mes 6 del año  2019 listo\n",
      "mes 7 del año  2019 listo\n",
      "mes 8 del año  2019 listo\n",
      "mes 9 del año  2019 listo\n",
      "mes 10 del año  2019 listo\n",
      "mes 11 del año  2019 listo\n",
      "mes 12 del año  2019 listo\n",
      "mes 1 del año  2020 listo\n",
      "mes 2 del año  2020 listo\n",
      "mes 3 del año  2020 listo\n",
      "mes 4 del año  2020 listo\n",
      "mes 5 del año  2020 listo\n",
      "mes 6 del año  2020 listo\n",
      "mes 7 del año  2020 listo\n",
      "mes 8 del año  2020 listo\n",
      "mes 9 del año  2020 listo\n",
      "mes 10 del año  2020 listo\n",
      "mes 11 del año  2020 listo\n",
      "mes 12 del año  2020 listo\n",
      "mes 1 del año  2021 listo\n",
      "mes 2 del año  2021 listo\n",
      "mes 3 del año  2021 listo\n",
      "mes 4 del año  2021 listo\n",
      "mes 5 del año  2021 listo\n",
      "mes 6 del año  2021 listo\n",
      "mes 7 del año  2021 listo\n",
      "mes 8 del año  2021 listo\n",
      "mes 9 del año  2021 listo\n",
      "mes 10 del año  2021 listo\n",
      "mes 11 del año  2021 listo\n",
      "mes 12 del año  2021 listo\n"
     ]
    }
   ],
   "source": [
    "dolar_blue = {}\n",
    "for i in np.arange(2015, 2022, 1):  \n",
    "    dolar_blue[str(i)] = downloadAño(i)"
   ]
  },
  {
   "cell_type": "code",
   "execution_count": 17,
   "metadata": {},
   "outputs": [
    {
     "data": {
      "text/html": [
       "<div>\n",
       "<style scoped>\n",
       "    .dataframe tbody tr th:only-of-type {\n",
       "        vertical-align: middle;\n",
       "    }\n",
       "\n",
       "    .dataframe tbody tr th {\n",
       "        vertical-align: top;\n",
       "    }\n",
       "\n",
       "    .dataframe thead th {\n",
       "        text-align: right;\n",
       "    }\n",
       "</style>\n",
       "<table border=\"1\" class=\"dataframe\">\n",
       "  <thead>\n",
       "    <tr style=\"text-align: right;\">\n",
       "      <th></th>\n",
       "      <th>bid</th>\n",
       "      <th>ask</th>\n",
       "    </tr>\n",
       "    <tr>\n",
       "      <th>fecha</th>\n",
       "      <th></th>\n",
       "      <th></th>\n",
       "    </tr>\n",
       "  </thead>\n",
       "  <tbody>\n",
       "    <tr>\n",
       "      <th>2015-07-22</th>\n",
       "      <td>$ 14.80</td>\n",
       "      <td>$ 14.90</td>\n",
       "    </tr>\n",
       "    <tr>\n",
       "      <th>2015-07-23</th>\n",
       "      <td>$ 14.51</td>\n",
       "      <td>$ 14.66</td>\n",
       "    </tr>\n",
       "  </tbody>\n",
       "</table>\n",
       "</div>"
      ],
      "text/plain": [
       "                  bid       ask\n",
       "fecha                          \n",
       "2015-07-22   $ 14.80    $ 14.90\n",
       "2015-07-23   $ 14.51    $ 14.66"
      ]
     },
     "execution_count": 17,
     "metadata": {},
     "output_type": "execute_result"
    },
    {
     "data": {
      "text/html": [
       "<div>\n",
       "<style scoped>\n",
       "    .dataframe tbody tr th:only-of-type {\n",
       "        vertical-align: middle;\n",
       "    }\n",
       "\n",
       "    .dataframe tbody tr th {\n",
       "        vertical-align: top;\n",
       "    }\n",
       "\n",
       "    .dataframe thead th {\n",
       "        text-align: right;\n",
       "    }\n",
       "</style>\n",
       "<table border=\"1\" class=\"dataframe\">\n",
       "  <thead>\n",
       "    <tr style=\"text-align: right;\">\n",
       "      <th></th>\n",
       "      <th>bid</th>\n",
       "      <th>ask</th>\n",
       "    </tr>\n",
       "    <tr>\n",
       "      <th>fecha</th>\n",
       "      <th></th>\n",
       "      <th></th>\n",
       "    </tr>\n",
       "  </thead>\n",
       "  <tbody>\n",
       "    <tr>\n",
       "      <th>2021-02-18</th>\n",
       "      <td>$ 144.40</td>\n",
       "      <td>$ 148.00</td>\n",
       "    </tr>\n",
       "    <tr>\n",
       "      <th>2021-02-19</th>\n",
       "      <td>$ 144.40</td>\n",
       "      <td>$ 148.00</td>\n",
       "    </tr>\n",
       "  </tbody>\n",
       "</table>\n",
       "</div>"
      ],
      "text/plain": [
       "                   bid        ask\n",
       "fecha                            \n",
       "2021-02-18   $ 144.40    $ 148.00\n",
       "2021-02-19   $ 144.40    $ 148.00"
      ]
     },
     "execution_count": 17,
     "metadata": {},
     "output_type": "execute_result"
    }
   ],
   "source": [
    "df_db = pd.concat(dolar_blue.values(), ignore_index=False)\n",
    "df_db.head(2)\n",
    "df_db.tail(2)"
   ]
  },
  {
   "cell_type": "markdown",
   "metadata": {},
   "source": [
    "## Desde un excel traemos los datos más antiguos"
   ]
  },
  {
   "cell_type": "code",
   "execution_count": 18,
   "metadata": {},
   "outputs": [
    {
     "data": {
      "text/html": [
       "<div>\n",
       "<style scoped>\n",
       "    .dataframe tbody tr th:only-of-type {\n",
       "        vertical-align: middle;\n",
       "    }\n",
       "\n",
       "    .dataframe tbody tr th {\n",
       "        vertical-align: top;\n",
       "    }\n",
       "\n",
       "    .dataframe thead th {\n",
       "        text-align: right;\n",
       "    }\n",
       "</style>\n",
       "<table border=\"1\" class=\"dataframe\">\n",
       "  <thead>\n",
       "    <tr style=\"text-align: right;\">\n",
       "      <th></th>\n",
       "      <th>Fecha</th>\n",
       "      <th>Venta</th>\n",
       "    </tr>\n",
       "  </thead>\n",
       "  <tbody>\n",
       "    <tr>\n",
       "      <th>0</th>\n",
       "      <td>2020-10-01</td>\n",
       "      <td>147,00</td>\n",
       "    </tr>\n",
       "    <tr>\n",
       "      <th>1</th>\n",
       "      <td>2020-09-30</td>\n",
       "      <td>146,00</td>\n",
       "    </tr>\n",
       "  </tbody>\n",
       "</table>\n",
       "</div>"
      ],
      "text/plain": [
       "       Fecha   Venta\n",
       "0 2020-10-01  147,00\n",
       "1 2020-09-30  146,00"
      ]
     },
     "execution_count": 18,
     "metadata": {},
     "output_type": "execute_result"
    },
    {
     "data": {
      "text/html": [
       "<div>\n",
       "<style scoped>\n",
       "    .dataframe tbody tr th:only-of-type {\n",
       "        vertical-align: middle;\n",
       "    }\n",
       "\n",
       "    .dataframe tbody tr th {\n",
       "        vertical-align: top;\n",
       "    }\n",
       "\n",
       "    .dataframe thead th {\n",
       "        text-align: right;\n",
       "    }\n",
       "</style>\n",
       "<table border=\"1\" class=\"dataframe\">\n",
       "  <thead>\n",
       "    <tr style=\"text-align: right;\">\n",
       "      <th></th>\n",
       "      <th>Fecha</th>\n",
       "      <th>Venta</th>\n",
       "    </tr>\n",
       "  </thead>\n",
       "  <tbody>\n",
       "    <tr>\n",
       "      <th>4648</th>\n",
       "      <td>2002-01-14</td>\n",
       "      <td>1,68</td>\n",
       "    </tr>\n",
       "    <tr>\n",
       "      <th>4649</th>\n",
       "      <td>2002-01-11</td>\n",
       "      <td>1,70</td>\n",
       "    </tr>\n",
       "  </tbody>\n",
       "</table>\n",
       "</div>"
      ],
      "text/plain": [
       "          Fecha Venta\n",
       "4648 2002-01-14  1,68\n",
       "4649 2002-01-11  1,70"
      ]
     },
     "execution_count": 18,
     "metadata": {},
     "output_type": "execute_result"
    }
   ],
   "source": [
    "db_ambito = pd.read_excel(RAW/'serie_dolar_blue.xlsx' )\n",
    "db_ambito = db_ambito[['Fecha','Venta']]\n",
    "db_ambito.head(2)\n",
    "db_ambito.tail(2)"
   ]
  },
  {
   "cell_type": "markdown",
   "metadata": {},
   "source": [
    "## Generamos la serie histórica completa de dolar blue"
   ]
  },
  {
   "cell_type": "code",
   "execution_count": 19,
   "metadata": {},
   "outputs": [
    {
     "name": "stderr",
     "output_type": "stream",
     "text": [
      "C:\\Users\\ruizf\\anaconda3\\lib\\site-packages\\ipykernel_launcher.py:12: FutureWarning: The default value of regex will change from True to False in a future version. In addition, single character regular expressions will*not* be treated as literal strings when regex=True.\n",
      "  if sys.path[0] == '':\n"
     ]
    },
    {
     "data": {
      "text/html": [
       "<div>\n",
       "<style scoped>\n",
       "    .dataframe tbody tr th:only-of-type {\n",
       "        vertical-align: middle;\n",
       "    }\n",
       "\n",
       "    .dataframe tbody tr th {\n",
       "        vertical-align: top;\n",
       "    }\n",
       "\n",
       "    .dataframe thead th {\n",
       "        text-align: right;\n",
       "    }\n",
       "</style>\n",
       "<table border=\"1\" class=\"dataframe\">\n",
       "  <thead>\n",
       "    <tr style=\"text-align: right;\">\n",
       "      <th></th>\n",
       "      <th>date</th>\n",
       "      <th>venta_dblue</th>\n",
       "    </tr>\n",
       "  </thead>\n",
       "  <tbody>\n",
       "    <tr>\n",
       "      <th>4649</th>\n",
       "      <td>2002-01-11</td>\n",
       "      <td>1.700000000</td>\n",
       "    </tr>\n",
       "    <tr>\n",
       "      <th>4648</th>\n",
       "      <td>2002-01-14</td>\n",
       "      <td>1.680000000</td>\n",
       "    </tr>\n",
       "    <tr>\n",
       "      <th>4647</th>\n",
       "      <td>2002-01-15</td>\n",
       "      <td>1.950000000</td>\n",
       "    </tr>\n",
       "    <tr>\n",
       "      <th>4646</th>\n",
       "      <td>2002-01-16</td>\n",
       "      <td>1.870000000</td>\n",
       "    </tr>\n",
       "    <tr>\n",
       "      <th>4645</th>\n",
       "      <td>2002-01-17</td>\n",
       "      <td>1.970000000</td>\n",
       "    </tr>\n",
       "    <tr>\n",
       "      <th>...</th>\n",
       "      <td>...</td>\n",
       "      <td>...</td>\n",
       "    </tr>\n",
       "    <tr>\n",
       "      <th>4750</th>\n",
       "      <td>2021-02-15</td>\n",
       "      <td>150.000000000</td>\n",
       "    </tr>\n",
       "    <tr>\n",
       "      <th>4751</th>\n",
       "      <td>2021-02-16</td>\n",
       "      <td>150.000000000</td>\n",
       "    </tr>\n",
       "    <tr>\n",
       "      <th>4752</th>\n",
       "      <td>2021-02-17</td>\n",
       "      <td>149.000000000</td>\n",
       "    </tr>\n",
       "    <tr>\n",
       "      <th>4753</th>\n",
       "      <td>2021-02-18</td>\n",
       "      <td>148.000000000</td>\n",
       "    </tr>\n",
       "    <tr>\n",
       "      <th>4754</th>\n",
       "      <td>2021-02-19</td>\n",
       "      <td>148.000000000</td>\n",
       "    </tr>\n",
       "  </tbody>\n",
       "</table>\n",
       "<p>4750 rows × 2 columns</p>\n",
       "</div>"
      ],
      "text/plain": [
       "           date   venta_dblue\n",
       "4649 2002-01-11   1.700000000\n",
       "4648 2002-01-14   1.680000000\n",
       "4647 2002-01-15   1.950000000\n",
       "4646 2002-01-16   1.870000000\n",
       "4645 2002-01-17   1.970000000\n",
       "...         ...           ...\n",
       "4750 2021-02-15 150.000000000\n",
       "4751 2021-02-16 150.000000000\n",
       "4752 2021-02-17 149.000000000\n",
       "4753 2021-02-18 148.000000000\n",
       "4754 2021-02-19 148.000000000\n",
       "\n",
       "[4750 rows x 2 columns]"
      ]
     },
     "execution_count": 19,
     "metadata": {},
     "output_type": "execute_result"
    }
   ],
   "source": [
    "# Reseteamos el index de la primer serie, por comodidad\n",
    "df_db.reset_index(inplace=True)\n",
    "# Cruzamos los dataframes\n",
    "cruza_db = pd.merge(db_ambito, df_db, how='outer', left_on='Fecha', right_on='fecha')\n",
    "# Vemos cual es la fecha que corresponde. Si en un lado es null, usamos la del otro, y así\n",
    "cruza_db['Fecha_OK'] = np.where(cruza_db['Fecha'].isnull(), cruza_db['fecha'], cruza_db['Fecha'])\n",
    "# ordenamos todo por esta nueva fecha\n",
    "cruza_db.sort_values(by='Fecha_OK',inplace=True)\n",
    "# en el valor de venta reemplazamos la coma decimal por el punto (python usa sistema americano)\n",
    "cruza_db['Venta'] = cruza_db['Venta'].str.replace(',','.')\n",
    "# quitamos el símbolo de dinero para poder convertir 'ask' en numérica\n",
    "cruza_db['ask'] = cruza_db['ask'].str.replace('$','')\n",
    "# vemos cual es la diferencia entre las cotizaciones, pero solo para donde no haya nulls en ningun caso (si hay null colocamos diferencia 0)\n",
    "cruza_db['dif'] = np.where(~(cruza_db['Venta'].isnull()) | (cruza_db['ask'].isnull()),\n",
    "                           cruza_db['Venta'].astype(float) - cruza_db['ask'].astype(float),\n",
    "                           0)\n",
    "# nuestro valor final será el de Venta, pero cuando sea null colocaremos el de 'ask'\n",
    "cruza_db['Venta_DBlue'] = np.where(cruza_db['Venta'].isnull(), cruza_db['ask'], cruza_db['Venta']) \n",
    "# convertimos esa variable a float\n",
    "cruza_db['Venta_DBlue'] = cruza_db['Venta_DBlue'].astype(float)\n",
    "# nos quedamos solo con la fecha y la cotizacion finales\n",
    "cruza_db = cruza_db[['Fecha_OK', 'Venta_DBlue']]\n",
    "# las renombramos\n",
    "cruza_db.columns=['date','venta_dblue']\n",
    "# quitamos duplicados por fecha\n",
    "cruza_db.drop_duplicates(subset='date', keep='first', inplace=True)\n",
    "# mostramos\n",
    "cruza_db"
   ]
  },
  {
   "cell_type": "markdown",
   "metadata": {},
   "source": [
    "# Exporta data"
   ]
  },
  {
   "cell_type": "code",
   "execution_count": 20,
   "metadata": {},
   "outputs": [],
   "source": [
    "# Exportamos merval \n",
    "df_merval.to_pickle(DATA/'df_merval.pkl')\n",
    "# Exportamos dolar blue\n",
    "cruza_db.to_pickle(DATA/'df_dolarblue.pkl')\n",
    "# Exportamos acciones\n",
    "np.save(DATA/'dict_acciones_arg',dict_acciones_argentinas)"
   ]
  },
  {
   "cell_type": "code",
   "execution_count": 21,
   "metadata": {},
   "outputs": [
    {
     "name": "stdout",
     "output_type": "stream",
     "text": [
      "El script demora 2.186114803949992 minutos\n"
     ]
    }
   ],
   "source": [
    "# Tomo el tiempo al final de la ejecucion\n",
    "end_time=time.time()\n",
    "print('El script demora', (end_time-start_time)/60, 'minutos')"
   ]
  }
 ],
 "metadata": {
  "kernelspec": {
   "display_name": "Python 3",
   "language": "python",
   "name": "python3"
  },
  "language_info": {
   "codemirror_mode": {
    "name": "ipython",
    "version": 3
   },
   "file_extension": ".py",
   "mimetype": "text/x-python",
   "name": "python",
   "nbconvert_exporter": "python",
   "pygments_lexer": "ipython3",
   "version": "3.7.6"
  },
  "toc": {
   "base_numbering": 1,
   "nav_menu": {},
   "number_sections": true,
   "sideBar": false,
   "skip_h1_title": false,
   "title_cell": "Table of Contents",
   "title_sidebar": "Contents",
   "toc_cell": false,
   "toc_position": {
    "height": "404.391px",
    "left": "1687.8px",
    "top": "111.14px",
    "width": "166.188px"
   },
   "toc_section_display": true,
   "toc_window_display": true
  },
  "varInspector": {
   "cols": {
    "lenName": 16,
    "lenType": 16,
    "lenVar": 40
   },
   "kernels_config": {
    "python": {
     "delete_cmd_postfix": "",
     "delete_cmd_prefix": "del ",
     "library": "var_list.py",
     "varRefreshCmd": "print(var_dic_list())"
    },
    "r": {
     "delete_cmd_postfix": ") ",
     "delete_cmd_prefix": "rm(",
     "library": "var_list.r",
     "varRefreshCmd": "cat(var_dic_list()) "
    }
   },
   "types_to_exclude": [
    "module",
    "function",
    "builtin_function_or_method",
    "instance",
    "_Feature"
   ],
   "window_display": false
  }
 },
 "nbformat": 4,
 "nbformat_minor": 4
}
